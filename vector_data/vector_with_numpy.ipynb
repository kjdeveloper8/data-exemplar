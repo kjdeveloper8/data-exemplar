{
 "cells": [
  {
   "cell_type": "markdown",
   "id": "4f224bc1-98e1-4265-8ed0-dce3af254414",
   "metadata": {},
   "source": [
    "## Numpy\n",
    "> Vectorizing with numpy"
   ]
  },
  {
   "cell_type": "code",
   "execution_count": 1,
   "id": "64b9ae7b-9db7-45fd-b563-73b9f72eaa71",
   "metadata": {},
   "outputs": [
    {
     "name": "stdout",
     "output_type": "stream",
     "text": [
      "\n",
      "\u001b[1m[\u001b[0m\u001b[34;49mnotice\u001b[0m\u001b[1;39;49m]\u001b[0m\u001b[39;49m A new release of pip is available: \u001b[0m\u001b[31;49m23.0.1\u001b[0m\u001b[39;49m -> \u001b[0m\u001b[32;49m23.3.2\u001b[0m\n",
      "\u001b[1m[\u001b[0m\u001b[34;49mnotice\u001b[0m\u001b[1;39;49m]\u001b[0m\u001b[39;49m To update, run: \u001b[0m\u001b[32;49mpython3.10 -m pip install --upgrade pip\u001b[0m\n"
     ]
    }
   ],
   "source": [
    "!pip install numpy -qU"
   ]
  },
  {
   "cell_type": "markdown",
   "id": "31475214-25cc-4db7-b5d2-4a594f11e12c",
   "metadata": {},
   "source": [
    "##### numpy\n",
    "<pre>\n",
    "    - scientific computing pkg\n",
    "    - supports n-dimentional homogeneous(same types) array\n",
    "    - fast\n",
    "    - broadcasting (implicit element-by-element behavior of operations)\n",
    "</pre>"
   ]
  },
  {
   "cell_type": "code",
   "execution_count": 2,
   "id": "0e1506ca-c552-4161-a55e-4518bf8f222b",
   "metadata": {},
   "outputs": [],
   "source": [
    "import numpy as np"
   ]
  },
  {
   "cell_type": "code",
   "execution_count": 4,
   "id": "12ed072d-f09e-4203-a9af-7d6bcd405aa7",
   "metadata": {},
   "outputs": [
    {
     "name": "stdout",
     "output_type": "stream",
     "text": [
      "narr --> [[12 23 34]\n",
      " [32 21 88]]\n",
      "ndim --> 2\n",
      "shape --> (2, 3)\n",
      "dtype --> int64\n",
      "size --> 6\n",
      "itemsize --> 8\n"
     ]
    }
   ],
   "source": [
    "## create numpy arr\n",
    "narr = np.array([[12, 23, 34], [32, 21, 88]])\n",
    "print(f\"narr --> {narr}\") # numpy array\n",
    "print(f\"ndim --> {narr.ndim}\") # dimention of arr\n",
    "print(f\"shape --> {narr.shape}\") # tuple with (n, m) row col\n",
    "print(f\"dtype --> {narr.dtype}\") # data type \n",
    "print(f\"size --> {narr.size}\") # total number of elements of the arr\n",
    "print(f\"itemsize --> {narr.itemsize}\") # size in bytes of each element"
   ]
  },
  {
   "cell_type": "code",
   "execution_count": 6,
   "id": "7bed35d7-44ac-4f46-b551-fe88e3b3bdac",
   "metadata": {},
   "outputs": [
    {
     "data": {
      "text/plain": [
       "array([[ 0,  1,  2,  3],\n",
       "       [ 4,  5,  6,  7],\n",
       "       [ 8,  9, 10, 11]])"
      ]
     },
     "execution_count": 6,
     "metadata": {},
     "output_type": "execute_result"
    }
   ],
   "source": [
    "## create numpy arr with range\n",
    "narr_2 = np.arange(12).reshape(3, 4)\n",
    "narr_2"
   ]
  },
  {
   "cell_type": "code",
   "execution_count": 7,
   "id": "d6f400c0-07ac-4165-92be-ec6c6a5f76b3",
   "metadata": {},
   "outputs": [
    {
     "data": {
      "text/plain": [
       "array([[0., 0., 0., 0.],\n",
       "       [0., 0., 0., 0.]])"
      ]
     },
     "execution_count": 7,
     "metadata": {},
     "output_type": "execute_result"
    }
   ],
   "source": [
    "## arr with zeros\n",
    "np.zeros((2, 4))"
   ]
  },
  {
   "cell_type": "code",
   "execution_count": 8,
   "id": "1e41bfb0-061a-47ec-ba30-9075a8cea13b",
   "metadata": {},
   "outputs": [
    {
     "data": {
      "text/plain": [
       "array([[[1., 1., 1., 1.],\n",
       "        [1., 1., 1., 1.],\n",
       "        [1., 1., 1., 1.]],\n",
       "\n",
       "       [[1., 1., 1., 1.],\n",
       "        [1., 1., 1., 1.],\n",
       "        [1., 1., 1., 1.]]], dtype=float16)"
      ]
     },
     "execution_count": 8,
     "metadata": {},
     "output_type": "execute_result"
    }
   ],
   "source": [
    "## arr with ones\n",
    "np.ones((2, 3, 4), dtype=np.float16)"
   ]
  },
  {
   "cell_type": "code",
   "execution_count": 10,
   "id": "1cbeb881-18c8-4c7d-9d53-078947337192",
   "metadata": {},
   "outputs": [
    {
     "data": {
      "text/plain": [
       "array([[0., 0., 0., 0.],\n",
       "       [0., 0., 0., 0.],\n",
       "       [0., 0., 0., 0.]])"
      ]
     },
     "execution_count": 10,
     "metadata": {},
     "output_type": "execute_result"
    }
   ],
   "source": [
    "## arr with random numbers\n",
    "np.empty((3, 4))"
   ]
  },
  {
   "cell_type": "code",
   "execution_count": 11,
   "id": "4de29d2a-6151-4eb5-b14f-4104dd50b048",
   "metadata": {},
   "outputs": [
    {
     "data": {
      "text/plain": [
       "array([2.1, 2.3, 2.5, 2.7, 2.9])"
      ]
     },
     "execution_count": 11,
     "metadata": {},
     "output_type": "execute_result"
    }
   ],
   "source": [
    "## range arr\n",
    "np.arange(2.1, 3.1, 0.2) # start, end, step"
   ]
  },
  {
   "cell_type": "code",
   "execution_count": 12,
   "id": "3dd16c9c-f0ae-406b-bb1d-dd68718c75f2",
   "metadata": {},
   "outputs": [
    {
     "data": {
      "text/plain": [
       "array([1.1       , 1.26666667, 1.43333333, 1.6       , 1.76666667,\n",
       "       1.93333333, 2.1       ])"
      ]
     },
     "execution_count": 12,
     "metadata": {},
     "output_type": "execute_result"
    }
   ],
   "source": [
    "## as it is difficult to predict numbers generated with arange step\n",
    "## linspace generates the numbers from arg\n",
    "np.linspace(1.10, 2.10, 7) # 7 numbers from 1.10 to 2.10 "
   ]
  },
  {
   "cell_type": "markdown",
   "id": "763c8dd4-0db1-4b4b-810f-ee2a140fcb84",
   "metadata": {},
   "source": [
    "#### Basic operations"
   ]
  },
  {
   "cell_type": "code",
   "execution_count": 13,
   "id": "6675f680-3f83-4213-9e26-55949a0a6197",
   "metadata": {},
   "outputs": [],
   "source": [
    "## arithmatic\n",
    "a = np.array([11, 22, 33])\n",
    "b = np.arange(3)"
   ]
  },
  {
   "cell_type": "code",
   "execution_count": 14,
   "id": "0094dbce-7b36-4b45-9d32-9f526e32138f",
   "metadata": {},
   "outputs": [
    {
     "name": "stdout",
     "output_type": "stream",
     "text": [
      "[11 22 33]\n",
      "----------\n",
      "[0 1 2]\n"
     ]
    }
   ],
   "source": [
    "print(a)\n",
    "print(\"-\"*10)\n",
    "print(b)"
   ]
  },
  {
   "cell_type": "code",
   "execution_count": 15,
   "id": "14373b68-2841-46e4-a92b-2d9d15d6223d",
   "metadata": {},
   "outputs": [
    {
     "name": "stdout",
     "output_type": "stream",
     "text": [
      "a-b: [11 21 31]\n",
      "a+b: [11 23 35]\n",
      "b**2: [0 1 4]\n",
      "a < 12: [ True False False]\n",
      "mul: [-9.99990207 -0.08851309  9.9991186 ]\n"
     ]
    }
   ],
   "source": [
    "print(f\"a-b: {a-b}\")\n",
    "print(f\"a+b: {a+b}\")\n",
    "print(f\"b**2: {b**2}\")\n",
    "print(f\"a < 12: {a<12}\")\n",
    "print(f\"mul: {10 * np.sin(a)}\")"
   ]
  },
  {
   "cell_type": "code",
   "execution_count": 16,
   "id": "b3d35f96-b08c-4aff-acd9-ebced54e10d6",
   "metadata": {},
   "outputs": [
    {
     "name": "stdout",
     "output_type": "stream",
     "text": [
      "aa*bb: [[2 1]\n",
      " [0 0]]\n",
      "aa@bb: [[3 3]\n",
      " [0 0]]\n",
      "aa.bb: [[3 3]\n",
      " [0 0]]\n"
     ]
    }
   ],
   "source": [
    "## matrix operations\n",
    "aa = np.array([[1, 1], [0, 0]])\n",
    "bb = np.array([[2, 1], [1, 2]])\n",
    "\n",
    "print(f\"aa*bb: {aa*bb}\") # elementwise product\n",
    "print(f\"aa@bb: {aa@bb}\") # matrix product\n",
    "print(f\"aa.bb: {aa.dot(bb)}\") # dot product"
   ]
  },
  {
   "cell_type": "code",
   "execution_count": 17,
   "id": "035cfbcd-b754-447f-a18d-31c1dee49486",
   "metadata": {},
   "outputs": [
    {
     "name": "stdout",
     "output_type": "stream",
     "text": [
      "[[ 0  1  2  3]\n",
      " [ 4  5  6  7]\n",
      " [ 8  9 10 11]]\n",
      "sum_0: [12 15 18 21]\n",
      "sum_1: [ 6 22 38]\n",
      "min: [0 1 2 3]\n",
      "max: [ 8  9 10 11]\n"
     ]
    }
   ],
   "source": [
    "## operations on axis\n",
    "print(f\"{narr_2}\")\n",
    "print(f\"sum_0: {narr_2.sum(axis=0)}\") # sum of axis 0 (col)\n",
    "print(f\"sum_1: {narr_2.sum(axis=1)}\") # sum of axis 1 (row)\n",
    "print(f\"min: {narr_2.min(axis=0)}\") # min of axis 0\n",
    "print(f\"max: {narr_2.max(axis=0)}\") # max of axis 0"
   ]
  },
  {
   "cell_type": "code",
   "execution_count": 19,
   "id": "1b71983c-e375-4f84-8eec-801831d1d558",
   "metadata": {},
   "outputs": [
    {
     "name": "stdout",
     "output_type": "stream",
     "text": [
      "[ 0  1  4  9 16 25 36 49]\n",
      "narr[2]: 4\n",
      "narr[3:6]: [ 9 16 25]\n",
      "narr[::-1]: [ 0  1  4  9 16 25 36 49]\n",
      "narr[-1]: [ 0  1  4  9 16 25 36 49]\n"
     ]
    }
   ],
   "source": [
    "## indexing and slicing\n",
    "narr = np.arange(8)**2\n",
    "print(f\"{narr}\")\n",
    "print(f\"narr[2]: {narr[2]}\")\n",
    "print(f\"narr[3:6]: {narr[3:6]}\")\n",
    "print(f\"narr[::-1]: {narr}\") # reversed narr\n",
    "print(f\"narr[-1]: {narr}\") # last element"
   ]
  },
  {
   "cell_type": "code",
   "execution_count": 20,
   "id": "92fcd4b2-2318-4012-ad95-0ea39cb17c25",
   "metadata": {},
   "outputs": [
    {
     "name": "stdout",
     "output_type": "stream",
     "text": [
      "b: [[ 0  1  2  3  4]\n",
      " [10 11 12 13 14]\n",
      " [20 21 22 23 24]]\n",
      "b[2,3]: 23\n",
      "b[0:5, 1]: [ 1 11 21]\n",
      "b[2:4, :]: [[20 21 22 23 24]]\n"
     ]
    }
   ],
   "source": [
    "## multidimensional arr have one index per axis\n",
    "## create arr fromfunction\n",
    "def farr(r, c):\n",
    "    return 10 * r +c\n",
    "\n",
    "b = np.fromfunction(farr, (3, 5), dtype=int)\n",
    "print(f\"b: {b}\")\n",
    "print(f\"b[2,3]: {b[2, 3]}\")\n",
    "print(f\"b[0:5, 1]: {b[0:5, 1]}\") # row in c at index 1\n",
    "print(f\"b[2:4, :]: {b[2:4, :]}\") # col in r at index 2 and 4"
   ]
  },
  {
   "cell_type": "code",
   "execution_count": 21,
   "id": "83e59a17-d36b-4a80-b56d-3a6a6f4999a8",
   "metadata": {},
   "outputs": [
    {
     "name": "stdout",
     "output_type": "stream",
     "text": [
      "[10 11 12 13 14]\n",
      "[ 2 12 22]\n"
     ]
    }
   ],
   "source": [
    "print(b[1, ...]) # same as b[1, :, :] or b[1]\n",
    "print(b[..., 2]) # same as b[:, :, 2] "
   ]
  },
  {
   "cell_type": "code",
   "execution_count": 32,
   "id": "f92e2820-4a9b-4c20-9565-78cef3e59510",
   "metadata": {},
   "outputs": [
    {
     "name": "stdout",
     "output_type": "stream",
     "text": [
      "b shape: (3, 5)\n",
      "flatten: [ 0  1  2  3  4 10 11 12 13 14 20 21 22 23 24]\n",
      "reshape: [[ 0  1  2]\n",
      " [ 3  4 10]\n",
      " [11 12 13]\n",
      " [14 20 21]\n",
      " [22 23 24]]\n",
      "transpose: (5, 3)\n",
      "resize: None\n"
     ]
    }
   ],
   "source": [
    "## shape\n",
    "## reshape : arr with modified shape\n",
    "print(f\"b shape: {b.shape}\")\n",
    "print(f\"flatten: {b.ravel()}\") # flatten arr\n",
    "print(f\"reshape: {b.reshape(5, 3)}\") # reshape (use -1 as other dim if not want to calculate)\n",
    "print(f\"transpose: {b.T.shape}\") # transpose shape\n",
    "\n",
    "## resize: modifies arr itself\n",
    "print(f\"resize: {b.resize((3, 5))}\")"
   ]
  },
  {
   "cell_type": "code",
   "execution_count": 33,
   "id": "98656de3-2c79-4abf-b825-3d4cda39acfb",
   "metadata": {},
   "outputs": [
    {
     "data": {
      "text/plain": [
       "array([[ 0,  1,  2,  3,  4],\n",
       "       [10, 11, 12, 13, 14],\n",
       "       [20, 21, 22, 23, 24]])"
      ]
     },
     "execution_count": 33,
     "metadata": {},
     "output_type": "execute_result"
    }
   ],
   "source": [
    "## after resize\n",
    "b"
   ]
  },
  {
   "cell_type": "code",
   "execution_count": 35,
   "id": "71316cf1-7510-4365-866a-57093285345f",
   "metadata": {},
   "outputs": [
    {
     "name": "stdout",
     "output_type": "stream",
     "text": [
      "vstack: [[1 1]\n",
      " [0 0]\n",
      " [2 1]\n",
      " [1 2]]\n",
      "hstack: [[1 1 2 1]\n",
      " [0 0 1 2]]\n"
     ]
    }
   ],
   "source": [
    "## stacking arr\n",
    "print(f\"vstack: {np.vstack((aa, bb))}\") # |\n",
    "print(f\"hstack: {np.hstack((aa, bb))}\") # -"
   ]
  },
  {
   "cell_type": "code",
   "execution_count": 39,
   "id": "b19a8c9a-0dcf-4497-aa34-b22fb287c6ca",
   "metadata": {},
   "outputs": [
    {
     "name": "stdout",
     "output_type": "stream",
     "text": [
      "[array([[ 0,  1,  2,  3,  4],\n",
      "       [10, 11, 12, 13, 14],\n",
      "       [20, 21, 22, 23, 24]])]\n",
      "[array([[ 0,  1],\n",
      "       [10, 11],\n",
      "       [20, 21]]), array([[ 2],\n",
      "       [12],\n",
      "       [22]]), array([[ 3,  4],\n",
      "       [13, 14],\n",
      "       [23, 24]])]\n"
     ]
    }
   ],
   "source": [
    "## splitting arr into smaller ones\n",
    "print(np.hsplit(b, 1)) # b into 1\n",
    "print(np.hsplit(b, (2, 3))) # after 2 and 3 col"
   ]
  },
  {
   "cell_type": "code",
   "execution_count": 40,
   "id": "d653d6c6-7cb8-4aac-b368-271519ed221e",
   "metadata": {},
   "outputs": [
    {
     "name": "stdout",
     "output_type": "stream",
     "text": [
      "False\n",
      "True\n",
      "[[ 0]\n",
      " [ 1]\n",
      " [ 2]\n",
      " [ 3]\n",
      " [ 4]\n",
      " [10]\n",
      " [11]\n",
      " [12]\n",
      " [13]\n",
      " [14]\n",
      " [20]\n",
      " [21]\n",
      " [22]\n",
      " [23]\n",
      " [24]]\n",
      "(3, 5)\n"
     ]
    }
   ],
   "source": [
    "## shallow copy or view\n",
    "## create new arr obj at same data\n",
    "c = b.view()\n",
    "print(c is b) # F as c is shallow copy of b, not b itself\n",
    "print(c.base is b) # T as c points at same data as b\n",
    "print(c.reshape(15, 1)) # does not change shape of b\n",
    "print(b.shape)"
   ]
  },
  {
   "cell_type": "code",
   "execution_count": 41,
   "id": "39997e70-eeb6-476e-a053-c55cf2b316a4",
   "metadata": {},
   "outputs": [
    {
     "data": {
      "text/plain": [
       "array([[4545,    1,    2,    3,    4],\n",
       "       [  10,   11,   12,   13,   14],\n",
       "       [  20,   21,   22,   23,   24]])"
      ]
     },
     "execution_count": 41,
     "metadata": {},
     "output_type": "execute_result"
    }
   ],
   "source": [
    "c[0,0] = 4545 \n",
    "b\n",
    "## changes b data"
   ]
  },
  {
   "cell_type": "code",
   "execution_count": 42,
   "id": "6740cdb7-da70-4021-b28f-5d64aff118a6",
   "metadata": {},
   "outputs": [
    {
     "name": "stdout",
     "output_type": "stream",
     "text": [
      "False\n",
      "False\n"
     ]
    }
   ],
   "source": [
    "## to avoid this use deepcopy\n",
    "d = b.copy() # create new arr with new data\n",
    "print(d is b) # F as it is new arr itself\n",
    "print(d.base is b) # F (also)"
   ]
  },
  {
   "cell_type": "code",
   "execution_count": 44,
   "id": "ef4a5a39-c9f4-45f5-b574-4d9bc0372445",
   "metadata": {},
   "outputs": [
    {
     "name": "stdout",
     "output_type": "stream",
     "text": [
      "b=array([[4545,    1,    2,    3,    4],\n",
      "       [  10,   11,   12,   13,   14],\n",
      "       [  20,   21,   22,   23,   24]])\n",
      "d=array([[3232,    1,    2,    3,    4],\n",
      "       [  10,   11,   12,   13,   14],\n",
      "       [  20,   21,   22,   23,   24]])\n"
     ]
    }
   ],
   "source": [
    "d[0, 0] = 3232\n",
    "print(f\"{b=}\")\n",
    "## dose not change b as d and b are two diff arr\n",
    "print(f\"{d=}\")"
   ]
  },
  {
   "cell_type": "code",
   "execution_count": null,
   "id": "7b1eb645-c3b3-4d93-b484-e54ba18cd3f9",
   "metadata": {},
   "outputs": [],
   "source": []
  },
  {
   "cell_type": "code",
   "execution_count": null,
   "id": "714d8c5c-a405-470a-96a6-27267f317429",
   "metadata": {},
   "outputs": [],
   "source": []
  }
 ],
 "metadata": {
  "kernelspec": {
   "display_name": "Python 3 (ipykernel)",
   "language": "python",
   "name": "python3"
  },
  "language_info": {
   "codemirror_mode": {
    "name": "ipython",
    "version": 3
   },
   "file_extension": ".py",
   "mimetype": "text/x-python",
   "name": "python",
   "nbconvert_exporter": "python",
   "pygments_lexer": "ipython3",
   "version": "3.10.12"
  }
 },
 "nbformat": 4,
 "nbformat_minor": 5
}
