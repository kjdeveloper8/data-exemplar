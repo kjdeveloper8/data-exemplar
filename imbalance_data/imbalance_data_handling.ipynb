{
 "cells": [
  {
   "cell_type": "markdown",
   "id": "4196e07c-9787-4468-8a56-eb6251c5a165",
   "metadata": {},
   "source": [
    "## Imbalance data methodology\n",
    "\n",
    "#### Imbalace data - When data distribution is not equally distributed\n",
    "\n",
    "#### - Handling imbalance data with text data\n",
    "\n",
    "    Ex: We will be using kaggle emotions dataset with imbalance data distribution class"
   ]
  },
  {
   "cell_type": "code",
   "execution_count": null,
   "id": "c29e06b1-0584-4374-b441-eb6f460bb8c6",
   "metadata": {},
   "outputs": [],
   "source": [
    "import opendatasets as od\n",
    "dataset_url = 'https://www.kaggle.com/datasets/praveengovi/emotions-dataset-for-nlp'\n",
    "od.download(dataset_url)"
   ]
  },
  {
   "cell_type": "code",
   "execution_count": 1,
   "id": "725eed7d-54e7-4c83-87ae-033e1eac91dd",
   "metadata": {},
   "outputs": [],
   "source": [
    "import pandas as pd\n",
    "import seaborn as sns"
   ]
  },
  {
   "cell_type": "code",
   "execution_count": 2,
   "id": "df5af48f-ac3a-4fff-94ec-2437ef48705c",
   "metadata": {},
   "outputs": [],
   "source": [
    "# read and create dataframes\n",
    "train_df = pd.read_csv('emotions-dataset-for-nlp/train.txt', sep=';', header=None, names=['Text', 'Emotion'])"
   ]
  },
  {
   "cell_type": "markdown",
   "id": "7f05fffd-6eb8-46e1-a4f3-0f0da2e6cec8",
   "metadata": {},
   "source": [
    "## EDA"
   ]
  },
  {
   "cell_type": "code",
   "execution_count": 3,
   "id": "9b83f5d7-a2cb-4af9-b79d-a077b43e2169",
   "metadata": {},
   "outputs": [
    {
     "name": "stdout",
     "output_type": "stream",
     "text": [
      "<class 'pandas.core.frame.DataFrame'>\n",
      "RangeIndex: 16000 entries, 0 to 15999\n",
      "Data columns (total 2 columns):\n",
      " #   Column   Non-Null Count  Dtype \n",
      "---  ------   --------------  ----- \n",
      " 0   Text     16000 non-null  object\n",
      " 1   Emotion  16000 non-null  object\n",
      "dtypes: object(2)\n",
      "memory usage: 250.1+ KB\n"
     ]
    }
   ],
   "source": [
    "train_df.info()"
   ]
  },
  {
   "cell_type": "code",
   "execution_count": 4,
   "id": "c55e86e2-d52c-43c6-94d2-76e6b6d8a7e7",
   "metadata": {},
   "outputs": [
    {
     "data": {
      "text/html": [
       "<div>\n",
       "<style scoped>\n",
       "    .dataframe tbody tr th:only-of-type {\n",
       "        vertical-align: middle;\n",
       "    }\n",
       "\n",
       "    .dataframe tbody tr th {\n",
       "        vertical-align: top;\n",
       "    }\n",
       "\n",
       "    .dataframe thead th {\n",
       "        text-align: right;\n",
       "    }\n",
       "</style>\n",
       "<table border=\"1\" class=\"dataframe\">\n",
       "  <thead>\n",
       "    <tr style=\"text-align: right;\">\n",
       "      <th></th>\n",
       "      <th>Text</th>\n",
       "      <th>Emotion</th>\n",
       "    </tr>\n",
       "  </thead>\n",
       "  <tbody>\n",
       "    <tr>\n",
       "      <th>count</th>\n",
       "      <td>16000</td>\n",
       "      <td>16000</td>\n",
       "    </tr>\n",
       "    <tr>\n",
       "      <th>unique</th>\n",
       "      <td>15969</td>\n",
       "      <td>6</td>\n",
       "    </tr>\n",
       "    <tr>\n",
       "      <th>top</th>\n",
       "      <td>i feel on the verge of tears from weariness i ...</td>\n",
       "      <td>joy</td>\n",
       "    </tr>\n",
       "    <tr>\n",
       "      <th>freq</th>\n",
       "      <td>2</td>\n",
       "      <td>5362</td>\n",
       "    </tr>\n",
       "  </tbody>\n",
       "</table>\n",
       "</div>"
      ],
      "text/plain": [
       "                                                     Text Emotion\n",
       "count                                               16000   16000\n",
       "unique                                              15969       6\n",
       "top     i feel on the verge of tears from weariness i ...     joy\n",
       "freq                                                    2    5362"
      ]
     },
     "execution_count": 4,
     "metadata": {},
     "output_type": "execute_result"
    }
   ],
   "source": [
    "train_df.describe()"
   ]
  },
  {
   "cell_type": "code",
   "execution_count": 5,
   "id": "efcbffbc-5afa-47a9-b771-7376284c80c9",
   "metadata": {},
   "outputs": [
    {
     "data": {
      "text/html": [
       "<div>\n",
       "<style scoped>\n",
       "    .dataframe tbody tr th:only-of-type {\n",
       "        vertical-align: middle;\n",
       "    }\n",
       "\n",
       "    .dataframe tbody tr th {\n",
       "        vertical-align: top;\n",
       "    }\n",
       "\n",
       "    .dataframe thead th {\n",
       "        text-align: right;\n",
       "    }\n",
       "</style>\n",
       "<table border=\"1\" class=\"dataframe\">\n",
       "  <thead>\n",
       "    <tr style=\"text-align: right;\">\n",
       "      <th></th>\n",
       "      <th>Text</th>\n",
       "      <th>Emotion</th>\n",
       "    </tr>\n",
       "  </thead>\n",
       "  <tbody>\n",
       "    <tr>\n",
       "      <th>0</th>\n",
       "      <td>i didnt feel humiliated</td>\n",
       "      <td>sadness</td>\n",
       "    </tr>\n",
       "    <tr>\n",
       "      <th>1</th>\n",
       "      <td>i can go from feeling so hopeless to so damned...</td>\n",
       "      <td>sadness</td>\n",
       "    </tr>\n",
       "    <tr>\n",
       "      <th>2</th>\n",
       "      <td>im grabbing a minute to post i feel greedy wrong</td>\n",
       "      <td>anger</td>\n",
       "    </tr>\n",
       "    <tr>\n",
       "      <th>3</th>\n",
       "      <td>i am ever feeling nostalgic about the fireplac...</td>\n",
       "      <td>love</td>\n",
       "    </tr>\n",
       "    <tr>\n",
       "      <th>4</th>\n",
       "      <td>i am feeling grouchy</td>\n",
       "      <td>anger</td>\n",
       "    </tr>\n",
       "  </tbody>\n",
       "</table>\n",
       "</div>"
      ],
      "text/plain": [
       "                                                Text  Emotion\n",
       "0                            i didnt feel humiliated  sadness\n",
       "1  i can go from feeling so hopeless to so damned...  sadness\n",
       "2   im grabbing a minute to post i feel greedy wrong    anger\n",
       "3  i am ever feeling nostalgic about the fireplac...     love\n",
       "4                               i am feeling grouchy    anger"
      ]
     },
     "execution_count": 5,
     "metadata": {},
     "output_type": "execute_result"
    }
   ],
   "source": [
    "train_df.head(5)"
   ]
  },
  {
   "cell_type": "code",
   "execution_count": 6,
   "id": "4ee7fba5-8e6f-424f-8787-22e08f7fe0cf",
   "metadata": {},
   "outputs": [
    {
     "data": {
      "text/plain": [
       "Index(['Text', 'Emotion'], dtype='object')"
      ]
     },
     "execution_count": 6,
     "metadata": {},
     "output_type": "execute_result"
    }
   ],
   "source": [
    "train_df.columns"
   ]
  },
  {
   "cell_type": "code",
   "execution_count": 7,
   "id": "f2d0d735-e160-4e21-8639-fb83696cf697",
   "metadata": {},
   "outputs": [
    {
     "data": {
      "text/plain": [
       "'i can go from feeling so hopeless to so damned hopeful just from being around someone who cares and is awake'"
      ]
     },
     "execution_count": 7,
     "metadata": {},
     "output_type": "execute_result"
    }
   ],
   "source": [
    "train_df['Text'][1]"
   ]
  },
  {
   "cell_type": "code",
   "execution_count": 8,
   "id": "9cbc1964-2de0-4f4d-99db-628c66c76843",
   "metadata": {},
   "outputs": [
    {
     "data": {
      "text/plain": [
       "Emotion\n",
       "joy         5362\n",
       "sadness     4666\n",
       "anger       2159\n",
       "fear        1937\n",
       "love        1304\n",
       "surprise     572\n",
       "Name: count, dtype: int64"
      ]
     },
     "execution_count": 8,
     "metadata": {},
     "output_type": "execute_result"
    }
   ],
   "source": [
    "train_df['Emotion'].value_counts()"
   ]
  },
  {
   "cell_type": "code",
   "execution_count": 9,
   "id": "027d34d6-ee62-400b-8781-a28704c3f2cd",
   "metadata": {},
   "outputs": [],
   "source": [
    "import matplotlib.pyplot as plt"
   ]
  },
  {
   "cell_type": "code",
   "execution_count": 10,
   "id": "38fb26bf-cfce-4e4b-b4e6-21b983285936",
   "metadata": {},
   "outputs": [
    {
     "data": {
      "text/plain": [
       "[Text(0, 0, '4666'),\n",
       " Text(0, 0, '2159'),\n",
       " Text(0, 0, '1304'),\n",
       " Text(0, 0, '572'),\n",
       " Text(0, 0, '1937'),\n",
       " Text(0, 0, '5362')]"
      ]
     },
     "execution_count": 10,
     "metadata": {},
     "output_type": "execute_result"
    },
    {
     "data": {
      "image/png": "[encoded data removed]",
      "text/plain": [
       "<Figure size 1500x600 with 1 Axes>"
      ]
     },
     "metadata": {},
     "output_type": "display_data"
    }
   ],
   "source": [
    "# plot \n",
    "f, ax = plt.subplots(figsize=(15,6))\n",
    "sns.set_color_codes('dark')\n",
    "ax = sns.countplot(train_df['Emotion'], stat='count')\n",
    "ax.bar_label(ax.containers[0])"
   ]
  },
  {
   "cell_type": "markdown",
   "id": "98fe39e1-a9cd-4a10-b280-e6ee1dbd6b7b",
   "metadata": {},
   "source": [
    "As from above, data is imbalance -- surprise and love seems to be in minority whereas joy and sadness is in majority"
   ]
  },
  {
   "cell_type": "code",
   "execution_count": 11,
   "id": "d2ab1a71-8f3c-4128-b93e-708bf78d3afe",
   "metadata": {},
   "outputs": [],
   "source": [
    "# !pip install imbalanced-learn -q"
   ]
  },
  {
   "cell_type": "markdown",
   "id": "bef6c906-adcd-4850-8f4b-855c23a40a46",
   "metadata": {},
   "source": [
    "#### Preprocessing data for resampling"
   ]
  },
  {
   "cell_type": "code",
   "execution_count": 12,
   "id": "1fc810bc-fe28-46f2-8a03-4392fe94bea1",
   "metadata": {},
   "outputs": [
    {
     "data": {
      "text/plain": [
       "Text       object\n",
       "Emotion    object\n",
       "dtype: object"
      ]
     },
     "execution_count": 12,
     "metadata": {},
     "output_type": "execute_result"
    }
   ],
   "source": [
    "train_df.dtypes"
   ]
  },
  {
   "cell_type": "code",
   "execution_count": 13,
   "id": "85cd5613-fa8a-4fbc-b205-5e3163c62b7c",
   "metadata": {},
   "outputs": [
    {
     "data": {
      "text/plain": [
       "CategoricalDtype(categories=['anger', 'fear', 'joy', 'love', 'sadness', 'surprise'], ordered=False, categories_dtype=object)"
      ]
     },
     "execution_count": 13,
     "metadata": {},
     "output_type": "execute_result"
    }
   ],
   "source": [
    "# converting emotion data type into categorial\n",
    "\n",
    "train_df_em_ct = train_df['Emotion'].astype(\"category\")\n",
    "train_df_em_ct.dtypes"
   ]
  },
  {
   "cell_type": "markdown",
   "id": "fe038303-e230-4597-a0b0-af7ff696e9c2",
   "metadata": {},
   "source": [
    "#### Vectorization of text data"
   ]
  },
  {
   "cell_type": "code",
   "execution_count": 14,
   "id": "86d701ab-0743-4004-b96a-04cea9f90ce7",
   "metadata": {},
   "outputs": [],
   "source": [
    "from time import time\n",
    "from sklearn.feature_extraction.text import TfidfVectorizer"
   ]
  },
  {
   "cell_type": "code",
   "execution_count": 15,
   "id": "3ed2ed54-365c-4459-865d-9a013655de4b",
   "metadata": {},
   "outputs": [
    {
     "name": "stdout",
     "output_type": "stream",
     "text": [
      "Vectorization done in 0.1619 s\n"
     ]
    }
   ],
   "source": [
    "# to process text data for resampling we'll perform vectorization\n",
    "\n",
    "tfidf = TfidfVectorizer() \n",
    "t0 = time()\n",
    "train_vec = tfidf.fit_transform(train_df['Text'])\n",
    "\n",
    "print(f\"Vectorization done in {time() - t0:.4f} s\")"
   ]
  },
  {
   "cell_type": "code",
   "execution_count": 16,
   "id": "09e6659a-10a2-4b72-8b8c-4d4c5c6ac3ee",
   "metadata": {},
   "outputs": [
    {
     "data": {
      "text/plain": [
       "(16000, 2)"
      ]
     },
     "execution_count": 16,
     "metadata": {},
     "output_type": "execute_result"
    }
   ],
   "source": [
    "train_df.shape"
   ]
  },
  {
   "cell_type": "code",
   "execution_count": 17,
   "id": "e5e469c1-e587-4bb5-ada6-e07ce77fbfb7",
   "metadata": {},
   "outputs": [
    {
     "data": {
      "text/plain": [
       "(16000, 15186)"
      ]
     },
     "execution_count": 17,
     "metadata": {},
     "output_type": "execute_result"
    }
   ],
   "source": [
    "train_vec.shape # curse of dimentionality"
   ]
  },
  {
   "cell_type": "code",
   "execution_count": 18,
   "id": "f4f08fa7-a45c-45af-8b65-33e2e669cfee",
   "metadata": {},
   "outputs": [
    {
     "data": {
      "text/plain": [
       "(16000,)"
      ]
     },
     "execution_count": 18,
     "metadata": {},
     "output_type": "execute_result"
    }
   ],
   "source": [
    "train_df_em_ct.shape"
   ]
  },
  {
   "cell_type": "markdown",
   "id": "8a425e41-cf27-4ffa-a9ea-f3cc9ede0a84",
   "metadata": {},
   "source": [
    "- **Oversampling**\n",
    "    - SMOTNEC (for categorial data with dataframe)\n",
    "    - input (X, y)\n",
    "        - X: data to be resampled (csr_matrix -- shape:(n_samples, n_features))\n",
    "        - y: categorial features corresponds to the data (X) (shape(n_samples, ))\n",
    "    - sampling_strategy\n",
    "        - minority: resample only the minority class\n",
    "        - not majority: resample all classes but the majority class\n",
    "        - not minority: resample all classes but the minority class\n",
    "        - all: resample all classes"
   ]
  },
  {
   "cell_type": "code",
   "execution_count": 19,
   "id": "c408689f-0292-4ce3-8e14-9efa1c452961",
   "metadata": {},
   "outputs": [],
   "source": [
    "from imblearn.over_sampling import SMOTENC"
   ]
  },
  {
   "cell_type": "code",
   "execution_count": 20,
   "id": "15548d54-0520-4f3e-a1c4-2d3d96c6cbc9",
   "metadata": {},
   "outputs": [],
   "source": [
    "def sampling(strategy):\n",
    "    sm = SMOTENC(sampling_strategy=strategy, random_state=42, categorical_features=[0,1,2,3,4,5])\n",
    "\n",
    "    X = train_vec          # data to resample\n",
    "    y = train_df_em_ct     # categorial features corresponds to the data (X)\n",
    "\n",
    "    x_resample, y_resample = sm.fit_resample(X, y)\n",
    "    return x_resample, y_resample"
   ]
  },
  {
   "cell_type": "markdown",
   "id": "e34db970-3fcd-4a43-bdae-bc47c0e27822",
   "metadata": {},
   "source": [
    "#### Sampling: minority"
   ]
  },
  {
   "cell_type": "code",
   "execution_count": 21,
   "id": "8df17f63-b6a2-451f-bafe-03890ca5699b",
   "metadata": {},
   "outputs": [
    {
     "name": "stdout",
     "output_type": "stream",
     "text": [
      "(minority) resampling done in 3.213 s\n"
     ]
    }
   ],
   "source": [
    "t0 = time()\n",
    "X_res, y_res = sampling(strategy='minority')\n",
    "print(f\"(minority) resampling done in {time() - t0:.3f} s\")"
   ]
  },
  {
   "cell_type": "code",
   "execution_count": 22,
   "id": "07ae7155-f624-4fb2-baab-385becaa03a4",
   "metadata": {},
   "outputs": [
    {
     "name": "stdout",
     "output_type": "stream",
     "text": [
      "X shape (20790, 15186)\n",
      "y shape (20790,)\n"
     ]
    }
   ],
   "source": [
    "print(\"X shape\", X_res.shape)\n",
    "print(\"y shape\", y_res.shape)"
   ]
  },
  {
   "cell_type": "code",
   "execution_count": 23,
   "id": "88f5f983-aebc-4975-8f50-085bc5206c49",
   "metadata": {},
   "outputs": [
    {
     "data": {
      "text/plain": [
       "[Text(0, 0, '2159'),\n",
       " Text(0, 0, '1937'),\n",
       " Text(0, 0, '5362'),\n",
       " Text(0, 0, '1304'),\n",
       " Text(0, 0, '4666'),\n",
       " Text(0, 0, '5362')]"
      ]
     },
     "execution_count": 23,
     "metadata": {},
     "output_type": "execute_result"
    },
    {
     "data": {
      "image/png": "[encoded data removed]",
      "text/plain": [
       "<Figure size 1500x600 with 1 Axes>"
      ]
     },
     "metadata": {},
     "output_type": "display_data"
    }
   ],
   "source": [
    "# plot \n",
    "f, ax = plt.subplots(figsize=(15,6))\n",
    "ax = sns.countplot(y_res.values, saturation = 1, color = \"lightblue\")\n",
    "ax.bar_label(ax.containers[0])"
   ]
  },
  {
   "cell_type": "markdown",
   "id": "92fad5a4-15fb-4761-bfe0-5809841e2adb",
   "metadata": {},
   "source": [
    "#### Sampling: not majority"
   ]
  },
  {
   "cell_type": "code",
   "execution_count": 24,
   "id": "8b6efafc-018a-4f32-864c-2c83f335529f",
   "metadata": {},
   "outputs": [
    {
     "name": "stdout",
     "output_type": "stream",
     "text": [
      "(not majority) resampling done in 7.060 s\n"
     ]
    }
   ],
   "source": [
    "t0 = time()\n",
    "X_res, y_res = sampling(strategy='not majority')\n",
    "print(f\"(not majority) resampling done in {time() - t0:.3f} s\")"
   ]
  },
  {
   "cell_type": "code",
   "execution_count": 25,
   "id": "ac9ca47c-b647-421f-97ed-3cfb570b1161",
   "metadata": {},
   "outputs": [
    {
     "name": "stdout",
     "output_type": "stream",
     "text": [
      "X shape (32172, 15186)\n",
      "y shape (32172,)\n"
     ]
    }
   ],
   "source": [
    "print(\"X shape\", X_res.shape)\n",
    "print(\"y shape\", y_res.shape)"
   ]
  },
  {
   "cell_type": "code",
   "execution_count": 26,
   "id": "6fa6161d-bb56-4ca4-857a-674b863d8040",
   "metadata": {},
   "outputs": [
    {
     "data": {
      "text/plain": [
       "[Text(0, 0, '5362'),\n",
       " Text(0, 0, '5362'),\n",
       " Text(0, 0, '5362'),\n",
       " Text(0, 0, '5362'),\n",
       " Text(0, 0, '5362'),\n",
       " Text(0, 0, '5362')]"
      ]
     },
     "execution_count": 26,
     "metadata": {},
     "output_type": "execute_result"
    },
    {
     "data": {
      "image/png": "[encoded data removed]",
      "text/plain": [
       "<Figure size 1500x600 with 1 Axes>"
      ]
     },
     "metadata": {},
     "output_type": "display_data"
    }
   ],
   "source": [
    "# plot \n",
    "f, ax = plt.subplots(figsize=(15,6))\n",
    "ax = sns.countplot(y_res.values, saturation = 1, color = \"blue\")\n",
    "ax.bar_label(ax.containers[0])"
   ]
  },
  {
   "cell_type": "markdown",
   "id": "64525189-171a-467d-a269-f93bc982eb9f",
   "metadata": {},
   "source": [
    "#### Sampling: not minority"
   ]
  },
  {
   "cell_type": "code",
   "execution_count": 27,
   "id": "80caa4bd-bc4c-4416-9657-5935de1c9c8c",
   "metadata": {},
   "outputs": [
    {
     "name": "stdout",
     "output_type": "stream",
     "text": [
      "(not minority) resampling done in 5.833 s\n"
     ]
    }
   ],
   "source": [
    "t0 = time()\n",
    "X_res, y_res = sampling(strategy='not minority')\n",
    "print(f\"(not minority) resampling done in {time() - t0:.3f} s\")"
   ]
  },
  {
   "cell_type": "code",
   "execution_count": 28,
   "id": "c546c8c8-5dc4-4c8d-b89b-e0efe90ee17a",
   "metadata": {},
   "outputs": [
    {
     "name": "stdout",
     "output_type": "stream",
     "text": [
      "X shape (27382, 15186)\n",
      "y shape (27382,)\n"
     ]
    }
   ],
   "source": [
    "print(\"X shape\", X_res.shape)\n",
    "print(\"y shape\", y_res.shape)"
   ]
  },
  {
   "cell_type": "code",
   "execution_count": 29,
   "id": "b67cfb4b-fce7-46e4-b4ee-b9c09b7f0c75",
   "metadata": {},
   "outputs": [
    {
     "data": {
      "text/plain": [
       "[Text(0, 0, '5362'),\n",
       " Text(0, 0, '5362'),\n",
       " Text(0, 0, '5362'),\n",
       " Text(0, 0, '5362'),\n",
       " Text(0, 0, '5362'),\n",
       " Text(0, 0, '572')]"
      ]
     },
     "execution_count": 29,
     "metadata": {},
     "output_type": "execute_result"
    },
    {
     "data": {
      "image/png": "[encoded data removed]",
      "text/plain": [
       "<Figure size 1500x600 with 1 Axes>"
      ]
     },
     "metadata": {},
     "output_type": "display_data"
    }
   ],
   "source": [
    "# plot \n",
    "f, ax = plt.subplots(figsize=(15,6))\n",
    "ax = sns.countplot(y_res.values, saturation = 1, color = \"purple\")\n",
    "ax.bar_label(ax.containers[0])"
   ]
  },
  {
   "cell_type": "markdown",
   "id": "eed23b7a-b953-47f3-a055-1efd822e8274",
   "metadata": {},
   "source": [
    "#### Sampling: all"
   ]
  },
  {
   "cell_type": "code",
   "execution_count": 30,
   "id": "1e3f96cb-319a-4867-a52d-f10ad39d9ea4",
   "metadata": {},
   "outputs": [
    {
     "name": "stdout",
     "output_type": "stream",
     "text": [
      "(all) resampling done in 7.053 s\n"
     ]
    }
   ],
   "source": [
    "t0 = time()\n",
    "X_res, y_res = sampling(strategy='all')\n",
    "print(f\"(all) resampling done in {time() - t0:.3f} s\")"
   ]
  },
  {
   "cell_type": "code",
   "execution_count": 31,
   "id": "67383e7d-df21-4164-9c1f-b3d1e9072f09",
   "metadata": {},
   "outputs": [
    {
     "name": "stdout",
     "output_type": "stream",
     "text": [
      "X shape (32172, 15186)\n",
      "y shape (32172,)\n"
     ]
    }
   ],
   "source": [
    "print(\"X shape\", X_res.shape)\n",
    "print(\"y shape\", y_res.shape)"
   ]
  },
  {
   "cell_type": "code",
   "execution_count": 32,
   "id": "5c09f3ac-aaf7-4cc5-9cfd-3a02846c8478",
   "metadata": {},
   "outputs": [
    {
     "data": {
      "text/plain": [
       "[Text(0, 0, '5362'),\n",
       " Text(0, 0, '5362'),\n",
       " Text(0, 0, '5362'),\n",
       " Text(0, 0, '5362'),\n",
       " Text(0, 0, '5362'),\n",
       " Text(0, 0, '5362')]"
      ]
     },
     "execution_count": 32,
     "metadata": {},
     "output_type": "execute_result"
    },
    {
     "data": {
      "image/png": "[encoded data removed]",
      "text/plain": [
       "<Figure size 1500x600 with 1 Axes>"
      ]
     },
     "metadata": {},
     "output_type": "display_data"
    }
   ],
   "source": [
    "# plot \n",
    "f, ax = plt.subplots(figsize=(15,6))\n",
    "ax = sns.countplot(y_res.values, saturation = 1, color = \"skyblue\")\n",
    "ax.bar_label(ax.containers[0])"
   ]
  },
  {
   "cell_type": "code",
   "execution_count": 33,
   "id": "ee037a0b-dc67-45fd-841a-a19aa5519028",
   "metadata": {},
   "outputs": [
    {
     "data": {
      "text/plain": [
       "scipy.sparse._csr.csr_matrix"
      ]
     },
     "execution_count": 33,
     "metadata": {},
     "output_type": "execute_result"
    }
   ],
   "source": [
    "type(X_res)"
   ]
  },
  {
   "cell_type": "markdown",
   "id": "aabc3ad6-12f4-4d67-aca4-01744914ca44",
   "metadata": {},
   "source": [
    "##### Revert back to text data"
   ]
  },
  {
   "cell_type": "code",
   "execution_count": 34,
   "id": "002cbe1d-4388-4910-bbee-722d39efcc39",
   "metadata": {},
   "outputs": [],
   "source": [
    "train_df_res = tfidf.inverse_transform(X_res)"
   ]
  },
  {
   "cell_type": "code",
   "execution_count": 35,
   "id": "17502e45-49fa-4166-b2bd-4e52c2063b91",
   "metadata": {},
   "outputs": [
    {
     "data": {
      "text/plain": [
       "32172"
      ]
     },
     "execution_count": 35,
     "metadata": {},
     "output_type": "execute_result"
    }
   ],
   "source": [
    "len(train_df_res)"
   ]
  },
  {
   "cell_type": "code",
   "execution_count": 36,
   "id": "2592c5e7-7fc0-42ae-86a7-73d019666db9",
   "metadata": {},
   "outputs": [
    {
     "data": {
      "text/plain": [
       "list"
      ]
     },
     "execution_count": 36,
     "metadata": {},
     "output_type": "execute_result"
    }
   ],
   "source": [
    "type(train_df_res)"
   ]
  },
  {
   "cell_type": "code",
   "execution_count": 37,
   "id": "4f86363a-2f2c-44e2-b111-0d9dbac9bac8",
   "metadata": {},
   "outputs": [
    {
     "data": {
      "text/plain": [
       "[array(['didnt', 'feel', 'humiliated'], dtype='<U74'),\n",
       " array(['and', 'around', 'awake', 'being', 'can', 'cares', 'damned',\n",
       "        'feeling', 'from', 'go', 'hopeful', 'hopeless', 'is', 'just', 'so',\n",
       "        'someone', 'to', 'who'], dtype='<U74'),\n",
       " array(['feel', 'grabbing', 'greedy', 'im', 'minute', 'post', 'to',\n",
       "        'wrong'], dtype='<U74'),\n",
       " array(['about', 'am', 'ever', 'feeling', 'fireplace', 'is', 'it', 'know',\n",
       "        'nostalgic', 'on', 'property', 'still', 'that', 'the', 'will'],\n",
       "       dtype='<U74'),\n",
       " array(['am', 'feeling', 'grouchy'], dtype='<U74'),\n",
       " array(['been', 'burdened', 'feeling', 'ive', 'lately', 'little', 'sure',\n",
       "        'that', 'was', 'wasnt', 'why'], dtype='<U74'),\n",
       " array(['also', 'amount', 'and', 'asleep', 'been', 'but', 'fallen',\n",
       "        'faster', 'feel', 'funny', 'ive', 'like', 'lot', 'milligrams',\n",
       "        'or', 'recommended', 'so', 'taking', 'times'], dtype='<U74'),\n",
       " array(['about', 'as', 'confused', 'feel', 'jaded', 'life', 'man', 'old',\n",
       "        'or', 'teenager', 'year'], dtype='<U74'),\n",
       " array(['and', 'been', 'feel', 'for', 'has', 'have', 'huge', 'made',\n",
       "        'performed', 'petronas', 'profit', 'that', 'well', 'with', 'years'],\n",
       "       dtype='<U74'),\n",
       " array(['feel', 'romantic', 'too'], dtype='<U74')]"
      ]
     },
     "execution_count": 37,
     "metadata": {},
     "output_type": "execute_result"
    }
   ],
   "source": [
    "train_df_res[:10]"
   ]
  },
  {
   "cell_type": "code",
   "execution_count": 38,
   "id": "4d32a238-9dc9-4c2e-a8eb-3b07103dcbe1",
   "metadata": {},
   "outputs": [
    {
     "data": {
      "text/plain": [
       "0                                didnt feel humiliated\n",
       "1    and around awake being can cares damned feelin...\n",
       "2         feel grabbing greedy im minute post to wrong\n",
       "3    about am ever feeling fireplace is it know nos...\n",
       "4                                   am feeling grouchy\n",
       "5    been burdened feeling ive lately little sure t...\n",
       "6    also amount and asleep been but fallen faster ...\n",
       "7    about as confused feel jaded life man old or t...\n",
       "8    and been feel for has have huge made performed...\n",
       "9                                    feel romantic too\n",
       "dtype: object"
      ]
     },
     "execution_count": 38,
     "metadata": {},
     "output_type": "execute_result"
    }
   ],
   "source": [
    "# join str arr and create a dataframe\n",
    "train_df_res_ = pd.DataFrame(train_df_res).apply(lambda x: ' '.join(item for item in x if item), axis=1) # join as col\n",
    "train_df_res_[:10]"
   ]
  },
  {
   "cell_type": "code",
   "execution_count": 39,
   "id": "1e6d03d2-7ace-452e-98c5-347780f94304",
   "metadata": {},
   "outputs": [
    {
     "data": {
      "text/plain": [
       "(32172,)"
      ]
     },
     "execution_count": 39,
     "metadata": {},
     "output_type": "execute_result"
    }
   ],
   "source": [
    "train_df_res_.shape"
   ]
  },
  {
   "cell_type": "code",
   "execution_count": 40,
   "id": "e2ad14f8-5c86-4e80-9849-bee9691f2327",
   "metadata": {},
   "outputs": [
    {
     "data": {
      "text/plain": [
       "(32172,)"
      ]
     },
     "execution_count": 40,
     "metadata": {},
     "output_type": "execute_result"
    }
   ],
   "source": [
    "y_res.shape"
   ]
  },
  {
   "cell_type": "code",
   "execution_count": 41,
   "id": "28f4e1e8-b89d-4a4a-ab42-1830dd37d19a",
   "metadata": {},
   "outputs": [
    {
     "data": {
      "text/plain": [
       "['sadness', 'sadness', 'anger', 'love', 'anger', ..., 'surprise', 'surprise', 'surprise', 'surprise', 'surprise']\n",
       "Length: 32172\n",
       "Categories (6, object): ['anger', 'fear', 'joy', 'love', 'sadness', 'surprise']"
      ]
     },
     "execution_count": 41,
     "metadata": {},
     "output_type": "execute_result"
    }
   ],
   "source": [
    "y_res.values"
   ]
  },
  {
   "cell_type": "code",
   "execution_count": null,
   "id": "ad3bd678-f01a-490e-bd32-5556c74550d7",
   "metadata": {},
   "outputs": [],
   "source": []
  }
 ],
 "metadata": {
  "kernelspec": {
   "display_name": "Python 3 (ipykernel)",
   "language": "python",
   "name": "python3"
  },
  "language_info": {
   "codemirror_mode": {
    "name": "ipython",
    "version": 3
   },
   "file_extension": ".py",
   "mimetype": "text/x-python",
   "name": "python",
   "nbconvert_exporter": "python",
   "pygments_lexer": "ipython3",
   "version": "3.12.3"
  }
 },
 "nbformat": 4,
 "nbformat_minor": 5
}
