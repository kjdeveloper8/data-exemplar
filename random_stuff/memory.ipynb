{
 "cells": [
  {
   "cell_type": "markdown",
   "id": "f20c3dcd-5fae-4870-aedb-968af6f91d5c",
   "metadata": {},
   "source": [
    "## floating points in machine learning\n",
    "> floating points in memory and howtos"
   ]
  },
  {
   "cell_type": "code",
   "execution_count": 1,
   "id": "a5014413-6e46-4f8f-82d9-99a502ead8bc",
   "metadata": {},
   "outputs": [],
   "source": [
    "import sys"
   ]
  },
  {
   "cell_type": "code",
   "execution_count": 2,
   "id": "8cb48649-6bd0-4fc8-ba3e-bfc8dc915cf3",
   "metadata": {},
   "outputs": [
    {
     "data": {
      "text/plain": [
       "sys.float_info(max=1.7976931348623157e+308, max_exp=1024, max_10_exp=308, min=2.2250738585072014e-308, min_exp=-1021, min_10_exp=-307, dig=15, mant_dig=53, epsilon=2.220446049250313e-16, radix=2, rounds=1)"
      ]
     },
     "execution_count": 2,
     "metadata": {},
     "output_type": "execute_result"
    }
   ],
   "source": [
    "sys.float_info"
   ]
  },
  {
   "cell_type": "code",
   "execution_count": 3,
   "id": "070a6284-2114-4cf9-bca3-4f24995f7474",
   "metadata": {},
   "outputs": [
    {
     "data": {
      "text/plain": [
       "'short'"
      ]
     },
     "execution_count": 3,
     "metadata": {},
     "output_type": "execute_result"
    }
   ],
   "source": [
    "sys.float_repr_style"
   ]
  },
  {
   "cell_type": "code",
   "execution_count": 4,
   "id": "e2b10b6b-877e-4bd1-baa6-26e184fe0a94",
   "metadata": {},
   "outputs": [],
   "source": [
    "import numpy as np"
   ]
  },
  {
   "cell_type": "code",
   "execution_count": 5,
   "id": "be6ddb64-a5ee-41cd-b8f1-b87bf67b4174",
   "metadata": {},
   "outputs": [
    {
     "data": {
      "text/plain": [
       "array([1., 2.], dtype=float32)"
      ]
     },
     "execution_count": 5,
     "metadata": {},
     "output_type": "execute_result"
    }
   ],
   "source": [
    "narr = np.array([1, 2], dtype=np.float32)\n",
    "narr"
   ]
  },
  {
   "cell_type": "code",
   "execution_count": 6,
   "id": "2474618f-909b-486a-84f9-b440e26fc151",
   "metadata": {},
   "outputs": [
    {
     "data": {
      "text/plain": [
       "120"
      ]
     },
     "execution_count": 6,
     "metadata": {},
     "output_type": "execute_result"
    }
   ],
   "source": [
    "sys.getsizeof(narr)"
   ]
  },
  {
   "cell_type": "code",
   "execution_count": 7,
   "id": "cab29f33-a93a-4ad1-b1e0-a1f164263b20",
   "metadata": {},
   "outputs": [
    {
     "data": {
      "text/plain": [
       "4"
      ]
     },
     "execution_count": 7,
     "metadata": {},
     "output_type": "execute_result"
    }
   ],
   "source": [
    "narr.itemsize"
   ]
  },
  {
   "cell_type": "code",
   "execution_count": 17,
   "id": "493d3960-e938-4c6a-9636-9f400a3f1391",
   "metadata": {},
   "outputs": [
    {
     "name": "stdout",
     "output_type": "stream",
     "text": [
      "d_float32, b_32, i_8, n_8,m_23, p_6, min_-3.4028234663852886e+38, max_3.4028234663852886e+38\n",
      "d_float64, b_64, i_11, n_11,m_52, p_15, min_-1.7976931348623157e+308, max_1.7976931348623157e+308\n"
     ]
    }
   ],
   "source": [
    "for f in (np.float32, np.float64):\n",
    "    finfo = np.finfo(f)\n",
    "    # dtype: data type\n",
    "    # bits: no of bits occupied by type\n",
    "    # iexp: no of bits in exp\n",
    "    # nexp: no of bits in exp with sign and bias\n",
    "    # nmant: no of bits in mantissa\n",
    "    # precision: no of decimal digit near to float this float number\n",
    "    # min: smallest representation \n",
    "    # max: largest representation\n",
    "    print(f\"d_{finfo.dtype}, b_{finfo.bits}, i_{finfo.iexp}, n_{finfo.nexp},m_{finfo.nmant}, p_{finfo.precision}, min_{finfo.min}, max_{finfo.max}\")\n",
    "    "
   ]
  },
  {
   "cell_type": "code",
   "execution_count": 12,
   "id": "5bc5d789-181c-457c-83a1-eec553feddd7",
   "metadata": {},
   "outputs": [
    {
     "name": "stdout",
     "output_type": "stream",
     "text": [
      "int8 -128 127\n",
      "int16 -32768 32767\n",
      "int32 -2147483648 2147483647\n",
      "int64 -9223372036854775808 9223372036854775807\n"
     ]
    }
   ],
   "source": [
    "for i in (np.int8, np.int16, np.int32, np.int64):\n",
    "    iinfo = np.iinfo(i)\n",
    "    print(iinfo.dtype, iinfo.min, iinfo.max)"
   ]
  },
  {
   "cell_type": "code",
   "execution_count": 18,
   "id": "1f88bfb2-0dd3-4a51-8b72-1c607f3b9c89",
   "metadata": {},
   "outputs": [
    {
     "data": {
      "text/plain": [
       "4"
      ]
     },
     "execution_count": 18,
     "metadata": {},
     "output_type": "execute_result"
    }
   ],
   "source": [
    "narr_32 = np.array([1.2345, 2.6543, 4.3205, 0.0023, 8.5362], dtype=np.float32)\n",
    "narr_32.itemsize"
   ]
  },
  {
   "cell_type": "code",
   "execution_count": 19,
   "id": "3f52eff5-5931-4ffd-9164-6b12670f3e49",
   "metadata": {},
   "outputs": [
    {
     "data": {
      "text/plain": [
       "8"
      ]
     },
     "execution_count": 19,
     "metadata": {},
     "output_type": "execute_result"
    }
   ],
   "source": [
    "narr_64 = np.array([1.2345, 2.6543, 4.3205, 0.0023, 8.5362], dtype=np.float64)\n",
    "narr_64.itemsize"
   ]
  },
  {
   "cell_type": "code",
   "execution_count": 20,
   "id": "817b2e1e-91be-45f2-b9dd-58d896f7cc14",
   "metadata": {},
   "outputs": [
    {
     "name": "stdout",
     "output_type": "stream",
     "text": [
      "132\n",
      "152\n"
     ]
    }
   ],
   "source": [
    "print(sys.getsizeof(narr_32))\n",
    "print(sys.getsizeof(narr_64))"
   ]
  },
  {
   "cell_type": "code",
   "execution_count": null,
   "id": "bc13238a-1c1f-4df8-85ef-9eebafaf4d4f",
   "metadata": {},
   "outputs": [],
   "source": []
  }
 ],
 "metadata": {
  "kernelspec": {
   "display_name": "Python 3 (ipykernel)",
   "language": "python",
   "name": "python3"
  },
  "language_info": {
   "codemirror_mode": {
    "name": "ipython",
    "version": 3
   },
   "file_extension": ".py",
   "mimetype": "text/x-python",
   "name": "python",
   "nbconvert_exporter": "python",
   "pygments_lexer": "ipython3",
   "version": "3.10.12"
  }
 },
 "nbformat": 4,
 "nbformat_minor": 5
}
