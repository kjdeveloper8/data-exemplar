{
 "cells": [
  {
   "cell_type": "markdown",
   "id": "2be0074b-d6de-46d7-ad5e-c90b92f8f865",
   "metadata": {},
   "source": [
    "### Polars"
   ]
  },
  {
   "cell_type": "code",
   "execution_count": 1,
   "id": "6a73fa82-755e-4841-8e2e-770e35c70336",
   "metadata": {},
   "outputs": [
    {
     "name": "stdout",
     "output_type": "stream",
     "text": [
      "\n",
      "\u001b[1m[\u001b[0m\u001b[34;49mnotice\u001b[0m\u001b[1;39;49m]\u001b[0m\u001b[39;49m A new release of pip is available: \u001b[0m\u001b[31;49m23.0.1\u001b[0m\u001b[39;49m -> \u001b[0m\u001b[32;49m23.3.2\u001b[0m\n",
      "\u001b[1m[\u001b[0m\u001b[34;49mnotice\u001b[0m\u001b[1;39;49m]\u001b[0m\u001b[39;49m To update, run: \u001b[0m\u001b[32;49mpython3.10 -m pip install --upgrade pip\u001b[0m\n"
     ]
    }
   ],
   "source": [
    "!pip install polars -q"
   ]
  },
  {
   "cell_type": "code",
   "execution_count": 1,
   "id": "e0441dab-9038-4bbb-a7aa-91f5c69f88a7",
   "metadata": {},
   "outputs": [],
   "source": [
    "import polars as pl"
   ]
  },
  {
   "cell_type": "code",
   "execution_count": 2,
   "id": "d279ac53-16c0-4516-9463-810dc7d1f2fa",
   "metadata": {},
   "outputs": [],
   "source": [
    "#v 0.20.5"
   ]
  },
  {
   "cell_type": "code",
   "execution_count": 3,
   "id": "1e793c33-23b2-463f-a28f-51e8ea4fc23c",
   "metadata": {},
   "outputs": [
    {
     "name": "stdout",
     "output_type": "stream",
     "text": [
      "shape: (3, 3)\n",
      "┌─────────┬────────┬───────┐\n",
      "│ integer ┆ string ┆ float │\n",
      "│ ---     ┆ ---    ┆ ---   │\n",
      "│ i64     ┆ str    ┆ f64   │\n",
      "╞═════════╪════════╪═══════╡\n",
      "│ 1       ┆ one    ┆ 4.0   │\n",
      "│ 2       ┆ two    ┆ 5.0   │\n",
      "│ 3       ┆ three  ┆ 6.0   │\n",
      "└─────────┴────────┴───────┘\n"
     ]
    }
   ],
   "source": [
    "df = pl.DataFrame(\n",
    "    {\n",
    "        \"integer\": [1, 2, 3],\n",
    "        \"string\": [\n",
    "            \"one\",\n",
    "            \"two\",\n",
    "            \"three\",\n",
    "        ],\n",
    "        \"float\": [4.0, 5.0, 6.0],\n",
    "    }\n",
    ")\n",
    "\n",
    "print(df)"
   ]
  },
  {
   "cell_type": "markdown",
   "id": "bc29b4c9-e5a8-4635-9a03-165ef41b1524",
   "metadata": {},
   "source": [
    "> Basics"
   ]
  },
  {
   "cell_type": "markdown",
   "id": "687df110-0f46-44e1-a2f6-7b98cb4f22a0",
   "metadata": {},
   "source": [
    "- datatypes: enum and categorial"
   ]
  },
  {
   "cell_type": "code",
   "execution_count": 4,
   "id": "36b93df9-1fc2-48fa-8464-96e80ae6c4ad",
   "metadata": {},
   "outputs": [
    {
     "name": "stdout",
     "output_type": "stream",
     "text": [
      "shape: (10,)\n",
      "Series: '' [enum]\n",
      "[\n",
      "\t\"Fire\"\n",
      "\t\"Air\"\n",
      "\t\"Water\"\n",
      "\t\"Fire\"\n",
      "\t\"Water\"\n",
      "\t\"Fire\"\n",
      "\t\"Air\"\n",
      "\t\"Water\"\n",
      "\t\"Fire\"\n",
      "\t\"Water\"\n",
      "]\n"
     ]
    }
   ],
   "source": [
    "## enum: when known\n",
    "e_dtype = pl.Enum([\"Fire\", \"Water\", \"Air\"])\n",
    "e_series = pl.Series([\"Fire\", \"Air\", \"Water\", \"Fire\", \"Water\"], dtype=e_dtype)\n",
    "e2_series = pl.Series([\"Fire\", \"Air\", \"Water\", \"Fire\", \"Water\"], dtype=e_dtype)\n",
    "print(e_series.append(e2_series))"
   ]
  },
  {
   "cell_type": "code",
   "execution_count": 5,
   "id": "9bfadc13-4d11-4b8c-9a5a-8fc148f15d88",
   "metadata": {},
   "outputs": [
    {
     "name": "stdout",
     "output_type": "stream",
     "text": [
      "value 'Land' is not present in Enum: LargeUtf8Array[Fire, Water, Air]\n"
     ]
    }
   ],
   "source": [
    "try:\n",
    "    e3_series = pl.Series([\"Air\", \"Water\", \"Land\", \"Fire\", \"Fire\"], dtype=e_dtype)\n",
    "except Exception as e:\n",
    "    print(e)\n",
    "## raised OutOfBounds error as \"Land\" is not defined in enum type"
   ]
  },
  {
   "cell_type": "code",
   "execution_count": 6,
   "id": "80dc4dcc-090d-4b0c-a3ae-130c5f6f1277",
   "metadata": {},
   "outputs": [
    {
     "name": "stdout",
     "output_type": "stream",
     "text": [
      "shape: (3,)\n",
      "Series: '' [bool]\n",
      "[\n",
      "\tfalse\n",
      "\tfalse\n",
      "\ttrue\n",
      "]\n"
     ]
    }
   ],
   "source": [
    "# compare\n",
    "dtype = pl.Enum([\"Red\", \"Blue\", \"Pink\"])\n",
    "c_series = pl.Series([\"Red\", \"Pink\", \"Blue\"], dtype=dtype)\n",
    "c2_series = pl.Series([\"Pink\", \"Blue\", \"Blue\"], dtype=dtype)\n",
    "\n",
    "print(c_series == c2_series) # F F T"
   ]
  },
  {
   "cell_type": "code",
   "execution_count": 7,
   "id": "95342f34-7654-4af9-9c7e-6619a1de89ad",
   "metadata": {},
   "outputs": [
    {
     "name": "stdout",
     "output_type": "stream",
     "text": [
      "shape: (3,)\n",
      "Series: '' [bool]\n",
      "[\n",
      "\ttrue\n",
      "\tfalse\n",
      "\ttrue\n",
      "]\n"
     ]
    }
   ],
   "source": [
    "print(c_series <= \"Blue\")"
   ]
  },
  {
   "cell_type": "code",
   "execution_count": 8,
   "id": "80d19c98-7600-40d5-a702-19324cc6250f",
   "metadata": {},
   "outputs": [
    {
     "name": "stdout",
     "output_type": "stream",
     "text": [
      "shape: (10,)\n",
      "Series: '' [cat]\n",
      "[\n",
      "\t\"Air\"\n",
      "\t\"Water\"\n",
      "\t\"Land\"\n",
      "\t\"Fire\"\n",
      "\t\"Fire\"\n",
      "\t\"Water\"\n",
      "\t\"Air\"\n",
      "\t\"Land\"\n",
      "\t\"Fire\"\n",
      "\t\"Fire\"\n",
      "]\n"
     ]
    },
    {
     "name": "stderr",
     "output_type": "stream",
     "text": [
      "/var/folders/__/7xdsb3hs5xb458ktnkcgydlw0000gn/T/ipykernel_79986/427816064.py:6: CategoricalRemappingWarning: Local categoricals have different encodings, expensive re-encoding is done to perform this merge operation. Consider using a StringCache or an Enum type if the categories are known in advance\n",
      "  print(cat_series.append(cat2_series))\n"
     ]
    }
   ],
   "source": [
    "## categorial: when unknown\n",
    "cat_series = pl.Series([\"Air\", \"Water\", \"Land\", \"Fire\", \"Fire\"],\n",
    "                       dtype=pl.Categorical)\n",
    "cat2_series = pl.Series([\"Water\", \"Air\", \"Land\", \"Fire\", \"Fire\"], \n",
    "                        dtype=pl.Categorical)\n",
    "print(cat_series.append(cat2_series)) "
   ]
  },
  {
   "cell_type": "code",
   "execution_count": 9,
   "id": "ce2168ad-9f98-4407-a453-ec14935e5497",
   "metadata": {},
   "outputs": [],
   "source": [
    "pl.enable_string_cache()"
   ]
  },
  {
   "cell_type": "code",
   "execution_count": 10,
   "id": "a7b2e247-6cac-493d-8756-103ced9decb4",
   "metadata": {},
   "outputs": [
    {
     "name": "stdout",
     "output_type": "stream",
     "text": [
      "shape: (3,)\n",
      "Series: '' [bool]\n",
      "[\n",
      "\tfalse\n",
      "\ttrue\n",
      "\tfalse\n",
      "]\n"
     ]
    }
   ],
   "source": [
    "with pl.StringCache():\n",
    "    c_series = pl.Series([\"A\", \"C\", \"P\"], dtype=pl.Categorical)\n",
    "    c2_series = pl.Series([\"P\", \"C\", \"A\"], dtype=pl.Categorical)\n",
    "    print(c_series == c2_series)"
   ]
  },
  {
   "cell_type": "markdown",
   "id": "58247912-495b-46e8-9d18-6731e45dd9a7",
   "metadata": {},
   "source": [
    "#### context"
   ]
  },
  {
   "cell_type": "code",
   "execution_count": 12,
   "id": "c2bd83ea-445d-4aaf-b2aa-2ed42703d343",
   "metadata": {},
   "outputs": [],
   "source": [
    "import numpy as np"
   ]
  },
  {
   "cell_type": "code",
   "execution_count": 13,
   "id": "87ced863-1678-4797-aa0a-6c31c6ff7060",
   "metadata": {},
   "outputs": [
    {
     "name": "stdout",
     "output_type": "stream",
     "text": [
      "shape: (5, 4)\n",
      "┌──────┬───────┬──────────┬────────┐\n",
      "│ nrs  ┆ names ┆ random   ┆ groups │\n",
      "│ ---  ┆ ---   ┆ ---      ┆ ---    │\n",
      "│ i64  ┆ str   ┆ f64      ┆ str    │\n",
      "╞══════╪═══════╪══════════╪════════╡\n",
      "│ 1    ┆ rio   ┆ 0.202561 ┆ A      │\n",
      "│ 2    ┆ kio   ┆ 0.0136   ┆ A      │\n",
      "│ 3    ┆ lio   ┆ 0.173634 ┆ B      │\n",
      "│ null ┆ zio   ┆ 0.487294 ┆ C      │\n",
      "│ 5    ┆ null  ┆ 0.762614 ┆ B      │\n",
      "└──────┴───────┴──────────┴────────┘\n"
     ]
    }
   ],
   "source": [
    "df = pl.DataFrame(\n",
    "    {\n",
    "        \"nrs\": [1, 2, 3, None, 5],\n",
    "        \"names\": [\"rio\", \"kio\", \"lio\", \"zio\", None],\n",
    "        \"random\": np.random.rand(5),\n",
    "        \"groups\": [\"A\", \"A\", \"B\", \"C\", \"B\"],\n",
    "    }\n",
    ")\n",
    "print(df)"
   ]
  },
  {
   "cell_type": "code",
   "execution_count": 15,
   "id": "988e2959-d391-4a4f-ae4d-e5f76c763f23",
   "metadata": {},
   "outputs": [
    {
     "name": "stdout",
     "output_type": "stream",
     "text": [
      "shape: (5, 4)\n",
      "┌─────┬───────┬────────────┬────────┐\n",
      "│ nrs ┆ names ┆ first name ┆ 10xnrs │\n",
      "│ --- ┆ ---   ┆ ---        ┆ ---    │\n",
      "│ i64 ┆ str   ┆ str        ┆ f64    │\n",
      "╞═════╪═══════╪════════════╪════════╡\n",
      "│ 11  ┆ null  ┆ rio        ┆ 27.5   │\n",
      "│ 11  ┆ kio   ┆ rio        ┆ 27.5   │\n",
      "│ 11  ┆ lio   ┆ rio        ┆ 27.5   │\n",
      "│ 11  ┆ rio   ┆ rio        ┆ 27.5   │\n",
      "│ 11  ┆ zio   ┆ rio        ┆ 27.5   │\n",
      "└─────┴───────┴────────────┴────────┘\n"
     ]
    }
   ],
   "source": [
    "## selection: expression on col\n",
    "## produce same lenght series or of length 1\n",
    "## may produce new col accordingly\n",
    "\n",
    "out = df.select(\n",
    "    pl.sum(\"nrs\"),\n",
    "    pl.col(\"names\").sort(),\n",
    "    pl.col(\"names\").first().alias(\"first name\"),\n",
    "    (pl.mean(\"nrs\") * 10).alias(\"10xnrs\"),\n",
    ")\n",
    "print(out)"
   ]
  },
  {
   "cell_type": "code",
   "execution_count": 16,
   "id": "96e39ad8-846c-45a9-bbbf-52f64dc351a7",
   "metadata": {},
   "outputs": [
    {
     "name": "stdout",
     "output_type": "stream",
     "text": [
      "shape: (5, 6)\n",
      "┌──────┬───────┬──────────┬────────┬─────────┬───────┐\n",
      "│ nrs  ┆ names ┆ random   ┆ groups ┆ nrs_sum ┆ count │\n",
      "│ ---  ┆ ---   ┆ ---      ┆ ---    ┆ ---     ┆ ---   │\n",
      "│ i64  ┆ str   ┆ f64      ┆ str    ┆ i64     ┆ u32   │\n",
      "╞══════╪═══════╪══════════╪════════╪═════════╪═══════╡\n",
      "│ 1    ┆ rio   ┆ 0.202561 ┆ A      ┆ 11      ┆ 5     │\n",
      "│ 2    ┆ kio   ┆ 0.0136   ┆ A      ┆ 11      ┆ 5     │\n",
      "│ 3    ┆ lio   ┆ 0.173634 ┆ B      ┆ 11      ┆ 5     │\n",
      "│ null ┆ zio   ┆ 0.487294 ┆ C      ┆ 11      ┆ 5     │\n",
      "│ 5    ┆ null  ┆ 0.762614 ┆ B      ┆ 11      ┆ 5     │\n",
      "└──────┴───────┴──────────┴────────┴─────────┴───────┘\n"
     ]
    }
   ],
   "source": [
    "## with columns\n",
    "## retains original cols\n",
    "\n",
    "df = df.with_columns(\n",
    "    pl.sum(\"nrs\").alias(\"nrs_sum\"),\n",
    "    pl.col(\"random\").count().alias(\"count\"),\n",
    ")\n",
    "print(df)"
   ]
  },
  {
   "cell_type": "code",
   "execution_count": 17,
   "id": "507fa115-e0e8-4b1b-8253-6944503b1725",
   "metadata": {},
   "outputs": [
    {
     "name": "stdout",
     "output_type": "stream",
     "text": [
      "shape: (2, 6)\n",
      "┌─────┬───────┬──────────┬────────┬─────────┬───────┐\n",
      "│ nrs ┆ names ┆ random   ┆ groups ┆ nrs_sum ┆ count │\n",
      "│ --- ┆ ---   ┆ ---      ┆ ---    ┆ ---     ┆ ---   │\n",
      "│ i64 ┆ str   ┆ f64      ┆ str    ┆ i64     ┆ u32   │\n",
      "╞═════╪═══════╪══════════╪════════╪═════════╪═══════╡\n",
      "│ 3   ┆ lio   ┆ 0.173634 ┆ B      ┆ 11      ┆ 5     │\n",
      "│ 5   ┆ null  ┆ 0.762614 ┆ B      ┆ 11      ┆ 5     │\n",
      "└─────┴───────┴──────────┴────────┴─────────┴───────┘\n"
     ]
    }
   ],
   "source": [
    "## filtering \n",
    "## evaluates df on boolean data types\n",
    "\n",
    "out = df.filter(pl.col(\"nrs\") > 2)\n",
    "print(out)"
   ]
  },
  {
   "cell_type": "code",
   "execution_count": 19,
   "id": "928bbdfa-9dbb-4948-ab8c-129d9614aa8a",
   "metadata": {},
   "outputs": [
    {
     "name": "stdout",
     "output_type": "stream",
     "text": [
      "shape: (3, 5)\n",
      "┌────────┬─────┬───────┬────────────┬────────────────┐\n",
      "│ groups ┆ nrs ┆ count ┆ random_sum ┆ reversed names │\n",
      "│ ---    ┆ --- ┆ ---   ┆ ---        ┆ ---            │\n",
      "│ str    ┆ i64 ┆ u32   ┆ f64        ┆ list[str]      │\n",
      "╞════════╪═════╪═══════╪════════════╪════════════════╡\n",
      "│ C      ┆ 0   ┆ 1     ┆ 0.487294   ┆ [\"zio\"]        │\n",
      "│ A      ┆ 3   ┆ 2     ┆ 0.216161   ┆ [\"kio\", \"rio\"] │\n",
      "│ B      ┆ 8   ┆ 2     ┆ 0.173634   ┆ [null, \"lio\"]  │\n",
      "└────────┴─────┴───────┴────────────┴────────────────┘\n"
     ]
    }
   ],
   "source": [
    "## group_by\n",
    "\n",
    "out = df.group_by(\"groups\").agg(\n",
    "    pl.sum(\"nrs\"),  # sum nrs by groups\n",
    "    pl.col(\"random\").count().alias(\"count\"),  # count group members\n",
    "    # sum random where name != null\n",
    "    pl.col(\"random\").filter(pl.col(\"names\").is_not_null()).sum().name.suffix(\"_sum\"),\n",
    "    pl.col(\"names\").reverse().alias(\"reversed names\"),\n",
    ")\n",
    "print(out)"
   ]
  },
  {
   "cell_type": "code",
   "execution_count": 23,
   "id": "17b167f0-3125-4b79-98a6-8f0958a593dd",
   "metadata": {},
   "outputs": [
    {
     "data": {
      "text/html": [
       "col(\"names\").sort(asc).slice(offset=0, length=2)"
      ],
      "text/plain": [
       "<Expr ['col(\"names\").sort(asc).slice(o…'] at 0x123768580>"
      ]
     },
     "execution_count": 23,
     "metadata": {},
     "output_type": "execute_result"
    }
   ],
   "source": [
    "## expression (can use many combinations)\n",
    "pl.col(\"names\").sort().head(2)"
   ]
  },
  {
   "cell_type": "code",
   "execution_count": 24,
   "id": "32d95503-a3b9-487d-bc4c-2580adbe04b6",
   "metadata": {},
   "outputs": [
    {
     "data": {
      "text/html": [
       "<div><style>\n",
       ".dataframe > thead > tr,\n",
       ".dataframe > tbody > tr {\n",
       "  text-align: right;\n",
       "  white-space: pre-wrap;\n",
       "}\n",
       "</style>\n",
       "<small>shape: (5, 6)</small><table border=\"1\" class=\"dataframe\"><thead><tr><th>nrs</th><th>names</th><th>random</th><th>groups</th><th>nrs_sum</th><th>count</th></tr><tr><td>i64</td><td>str</td><td>f64</td><td>str</td><td>i64</td><td>u32</td></tr></thead><tbody><tr><td>1</td><td>&quot;rio&quot;</td><td>0.202561</td><td>&quot;A&quot;</td><td>11</td><td>5</td></tr><tr><td>2</td><td>&quot;kio&quot;</td><td>0.0136</td><td>&quot;A&quot;</td><td>11</td><td>5</td></tr><tr><td>3</td><td>&quot;lio&quot;</td><td>0.173634</td><td>&quot;B&quot;</td><td>11</td><td>5</td></tr><tr><td>null</td><td>&quot;zio&quot;</td><td>0.487294</td><td>&quot;C&quot;</td><td>11</td><td>5</td></tr><tr><td>5</td><td>null</td><td>0.762614</td><td>&quot;B&quot;</td><td>11</td><td>5</td></tr></tbody></table></div>"
      ],
      "text/plain": [
       "shape: (5, 6)\n",
       "┌──────┬───────┬──────────┬────────┬─────────┬───────┐\n",
       "│ nrs  ┆ names ┆ random   ┆ groups ┆ nrs_sum ┆ count │\n",
       "│ ---  ┆ ---   ┆ ---      ┆ ---    ┆ ---     ┆ ---   │\n",
       "│ i64  ┆ str   ┆ f64      ┆ str    ┆ i64     ┆ u32   │\n",
       "╞══════╪═══════╪══════════╪════════╪═════════╪═══════╡\n",
       "│ 1    ┆ rio   ┆ 0.202561 ┆ A      ┆ 11      ┆ 5     │\n",
       "│ 2    ┆ kio   ┆ 0.0136   ┆ A      ┆ 11      ┆ 5     │\n",
       "│ 3    ┆ lio   ┆ 0.173634 ┆ B      ┆ 11      ┆ 5     │\n",
       "│ null ┆ zio   ┆ 0.487294 ┆ C      ┆ 11      ┆ 5     │\n",
       "│ 5    ┆ null  ┆ 0.762614 ┆ B      ┆ 11      ┆ 5     │\n",
       "└──────┴───────┴──────────┴────────┴─────────┴───────┘"
      ]
     },
     "execution_count": 24,
     "metadata": {},
     "output_type": "execute_result"
    }
   ],
   "source": [
    "df"
   ]
  },
  {
   "cell_type": "code",
   "execution_count": 28,
   "id": "7f3c1f7c-2cc0-4bde-acc1-8c78271f7ddb",
   "metadata": {},
   "outputs": [
    {
     "data": {
      "text/html": [
       "<div><style>\n",
       ".dataframe > thead > tr,\n",
       ".dataframe > tbody > tr {\n",
       "  text-align: right;\n",
       "  white-space: pre-wrap;\n",
       "}\n",
       "</style>\n",
       "<small>shape: (3, 2)</small><table border=\"1\" class=\"dataframe\"><thead><tr><th>nrs</th><th>names</th></tr><tr><td>i64</td><td>str</td></tr></thead><tbody><tr><td>null</td><td>null</td></tr><tr><td>1</td><td>null</td></tr><tr><td>2</td><td>null</td></tr></tbody></table></div>"
      ],
      "text/plain": [
       "shape: (3, 2)\n",
       "┌──────┬───────┐\n",
       "│ nrs  ┆ names │\n",
       "│ ---  ┆ ---   │\n",
       "│ i64  ┆ str   │\n",
       "╞══════╪═══════╡\n",
       "│ null ┆ null  │\n",
       "│ 1    ┆ null  │\n",
       "│ 2    ┆ null  │\n",
       "└──────┴───────┘"
      ]
     },
     "execution_count": 28,
     "metadata": {},
     "output_type": "execute_result"
    }
   ],
   "source": [
    "df.select(pl.col(\"nrs\").sort().head(3), pl.col(\"names\").filter(pl.col(\"nrs\") == 1).sum())"
   ]
  },
  {
   "cell_type": "code",
   "execution_count": null,
   "id": "d562ec43-0ee3-4741-824d-80823bd2c59d",
   "metadata": {},
   "outputs": [],
   "source": []
  },
  {
   "cell_type": "code",
   "execution_count": null,
   "id": "3b101e16-4b79-4638-a883-1ff9ce0bcae2",
   "metadata": {},
   "outputs": [],
   "source": []
  },
  {
   "cell_type": "code",
   "execution_count": null,
   "id": "0d4352c3-5418-40ff-a34c-e6e134bed42c",
   "metadata": {},
   "outputs": [],
   "source": []
  },
  {
   "cell_type": "code",
   "execution_count": null,
   "id": "bfd8647f-5b3e-4666-943a-648feaa89d72",
   "metadata": {},
   "outputs": [],
   "source": []
  }
 ],
 "metadata": {
  "kernelspec": {
   "display_name": "Python 3 (ipykernel)",
   "language": "python",
   "name": "python3"
  },
  "language_info": {
   "codemirror_mode": {
    "name": "ipython",
    "version": 3
   },
   "file_extension": ".py",
   "mimetype": "text/x-python",
   "name": "python",
   "nbconvert_exporter": "python",
   "pygments_lexer": "ipython3",
   "version": "3.10.12"
  }
 },
 "nbformat": 4,
 "nbformat_minor": 5
}
