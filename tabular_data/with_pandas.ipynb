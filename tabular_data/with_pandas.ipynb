{
 "cells": [
  {
   "cell_type": "markdown",
   "id": "cac62147-500b-488c-a11c-ba217800ca47",
   "metadata": {},
   "source": [
    "### Pandas\n",
    "> Quick gothrough"
   ]
  },
  {
   "cell_type": "code",
   "execution_count": 1,
   "id": "6d199057-0a66-4c63-a016-88577c0f8abe",
   "metadata": {},
   "outputs": [
    {
     "name": "stdout",
     "output_type": "stream",
     "text": [
      "\n",
      "\u001b[1m[\u001b[0m\u001b[34;49mnotice\u001b[0m\u001b[1;39;49m]\u001b[0m\u001b[39;49m A new release of pip is available: \u001b[0m\u001b[31;49m23.0.1\u001b[0m\u001b[39;49m -> \u001b[0m\u001b[32;49m23.3.2\u001b[0m\n",
      "\u001b[1m[\u001b[0m\u001b[34;49mnotice\u001b[0m\u001b[1;39;49m]\u001b[0m\u001b[39;49m To update, run: \u001b[0m\u001b[32;49mpython3.10 -m pip install --upgrade pip\u001b[0m\n"
     ]
    }
   ],
   "source": [
    "!pip install pandas -qU"
   ]
  },
  {
   "cell_type": "markdown",
   "id": "f0aac06c-6067-4e03-9363-3ba8c4f3728a",
   "metadata": {},
   "source": [
    "#### data class\n",
    "<pre>\n",
    "    - Series: 1d arr to hold any data type\n",
    "    - Dataframe: 2d data structure to handle row or col\n",
    "</pre>"
   ]
  },
  {
   "cell_type": "code",
   "execution_count": 2,
   "id": "dc6b1fbd-ff7e-498d-a212-28d9b75ad8d6",
   "metadata": {},
   "outputs": [],
   "source": [
    "import pandas as pd\n",
    "import numpy as np"
   ]
  },
  {
   "cell_type": "code",
   "execution_count": 3,
   "id": "130d7210-8c4e-4623-ae6b-a37c9e94feb7",
   "metadata": {},
   "outputs": [
    {
     "data": {
      "text/plain": [
       "0    11\n",
       "1    22\n",
       "2    33\n",
       "dtype: int64"
      ]
     },
     "execution_count": 3,
     "metadata": {},
     "output_type": "execute_result"
    }
   ],
   "source": [
    "## series\n",
    "s = pd.Series([11, 22, 33])\n",
    "s"
   ]
  },
  {
   "cell_type": "code",
   "execution_count": 4,
   "id": "0d83a9b3-2bb3-4a1d-8eba-c6faaeb2d9e0",
   "metadata": {},
   "outputs": [
    {
     "name": "stdout",
     "output_type": "stream",
     "text": [
      "DatetimeIndex(['2024-01-05', '2024-01-06', '2024-01-07', '2024-01-08',\n",
      "               '2024-01-09', '2024-01-10', '2024-01-11', '2024-01-12'],\n",
      "              dtype='datetime64[ns]', freq='D')\n",
      "\n",
      "                   a         b         c         d\n",
      "2024-01-05 -1.211673  0.941568 -1.561177 -0.547745\n",
      "2024-01-06  0.013368 -0.106951 -2.315565 -0.478239\n",
      "2024-01-07 -0.596637  0.267147  2.130864 -0.515118\n",
      "2024-01-08  2.399555  0.779150 -1.533278  0.380306\n",
      "2024-01-09 -0.382796  1.197773 -0.038580  1.877805\n",
      "2024-01-10 -2.625035 -1.551799  1.715700 -1.148536\n",
      "2024-01-11 -1.103701 -0.229666 -0.870151  0.543942\n",
      "2024-01-12  0.636748 -0.574155 -1.181298 -1.137014\n"
     ]
    }
   ],
   "source": [
    "## df\n",
    "# create datetime index with date_range\n",
    "dt = pd.date_range(\"20240105\", periods=8)\n",
    "print(dt)\n",
    "print()\n",
    "# create df with numpy arr and dt as index\n",
    "df = pd.DataFrame(np.random.randn(8, 4), index=dt, columns=list(\"abcd\"))\n",
    "print(df)"
   ]
  },
  {
   "cell_type": "code",
   "execution_count": 6,
   "id": "5476a465-6e3a-497e-a1b8-3e95d6de84f4",
   "metadata": {},
   "outputs": [
    {
     "name": "stdout",
     "output_type": "stream",
     "text": [
      "   a          b    c       d      e\n",
      "0  1 2024-01-05  1.0     red  color\n",
      "1  1 2024-01-05  1.0   green  color\n",
      "2  1 2024-01-05  1.0    blue  color\n",
      "3  1 2024-01-05  1.0  purple  color\n",
      "4  1 2024-01-05  1.0   black  color\n",
      "------------\n",
      "a            int64\n",
      "b    datetime64[s]\n",
      "c          float16\n",
      "d         category\n",
      "e           object\n",
      "dtype: object\n"
     ]
    }
   ],
   "source": [
    "## create df with dict\n",
    "df_2 = pd.DataFrame(\n",
    "    {\n",
    "        \"a\": 1,\n",
    "        \"b\": pd.Timestamp(\"20240105\"),\n",
    "        \"c\": pd.Series(1, index = list(range(5)), dtype=\"float16\"),\n",
    "        \"d\": pd.Categorical([\"red\", \"green\", \"blue\", \"purple\", \"black\"]),\n",
    "        \"e\": \"color\",\n",
    "    }\n",
    ")\n",
    "print(df_2)\n",
    "print(\"-\"*12)\n",
    "print(df_2.dtypes)"
   ]
  },
  {
   "cell_type": "code",
   "execution_count": 9,
   "id": "039d5053-0e3b-4354-9ece-d8849b4e0bfa",
   "metadata": {},
   "outputs": [
    {
     "name": "stdout",
     "output_type": "stream",
     "text": [
      "                   a         b         c         d\n",
      "2024-01-05 -1.211673  0.941568 -1.561177 -0.547745\n",
      "2024-01-06  0.013368 -0.106951 -2.315565 -0.478239\n",
      "2024-01-07 -0.596637  0.267147  2.130864 -0.515118\n",
      "2024-01-08  2.399555  0.779150 -1.533278  0.380306\n",
      "2024-01-09 -0.382796  1.197773 -0.038580  1.877805\n",
      "--------------------------------------------------\n",
      "                   a         b         c         d\n",
      "2024-01-11 -1.103701 -0.229666 -0.870151  0.543942\n",
      "2024-01-12  0.636748 -0.574155 -1.181298 -1.137014\n",
      "--------------------------------------------------\n",
      "DatetimeIndex(['2024-01-05', '2024-01-06', '2024-01-07', '2024-01-08',\n",
      "               '2024-01-09', '2024-01-10', '2024-01-11', '2024-01-12'],\n",
      "              dtype='datetime64[ns]', freq='D')\n",
      "--------------------------------------------------\n",
      "Index(['a', 'b', 'c', 'd'], dtype='object')\n",
      "--------------------------------------------------\n",
      "<bound method NDFrame.describe of                    a         b         c         d\n",
      "2024-01-05 -1.211673  0.941568 -1.561177 -0.547745\n",
      "2024-01-06  0.013368 -0.106951 -2.315565 -0.478239\n",
      "2024-01-07 -0.596637  0.267147  2.130864 -0.515118\n",
      "2024-01-08  2.399555  0.779150 -1.533278  0.380306\n",
      "2024-01-09 -0.382796  1.197773 -0.038580  1.877805\n",
      "2024-01-10 -2.625035 -1.551799  1.715700 -1.148536\n",
      "2024-01-11 -1.103701 -0.229666 -0.870151  0.543942\n",
      "2024-01-12  0.636748 -0.574155 -1.181298 -1.137014>\n"
     ]
    }
   ],
   "source": [
    "## view df\n",
    "print(df.head()) # first 5 (default)\n",
    "print(\"-\"*50)\n",
    "print(df.tail(2)) # last 2\n",
    "print(\"-\"*50)\n",
    "print(df.index) # indexs\n",
    "print(\"-\"*50)\n",
    "print(df.columns) # col names\n",
    "print(\"-\"*50)\n",
    "print(df.describe) # summary of data"
   ]
  },
  {
   "cell_type": "code",
   "execution_count": 10,
   "id": "64973bfc-181d-42e5-a604-f3b9134c223b",
   "metadata": {},
   "outputs": [
    {
     "data": {
      "text/plain": [
       "array([[-1.21167273,  0.94156809, -1.56117741, -0.5477446 ],\n",
       "       [ 0.01336849, -0.10695109, -2.31556527, -0.47823925],\n",
       "       [-0.59663657,  0.26714704,  2.1308638 , -0.51511805],\n",
       "       [ 2.39955494,  0.77915024, -1.53327771,  0.38030592],\n",
       "       [-0.38279636,  1.19777276, -0.03857967,  1.87780503],\n",
       "       [-2.62503493, -1.55179926,  1.71569991, -1.1485359 ],\n",
       "       [-1.10370118, -0.22966645, -0.87015126,  0.54394231],\n",
       "       [ 0.6367482 , -0.57415534, -1.18129811, -1.13701358]])"
      ]
     },
     "execution_count": 10,
     "metadata": {},
     "output_type": "execute_result"
    }
   ],
   "source": [
    "## converts to np\n",
    "df.to_numpy()"
   ]
  },
  {
   "cell_type": "code",
   "execution_count": 12,
   "id": "69e57a28-567f-4df4-84c6-8ed4e3dd1dcf",
   "metadata": {},
   "outputs": [
    {
     "name": "stdout",
     "output_type": "stream",
     "text": [
      "   a          b    c       d      e\n",
      "0  1 2024-01-05  1.0     red  color\n",
      "1  1 2024-01-05  1.0   green  color\n",
      "2  1 2024-01-05  1.0    blue  color\n",
      "3  1 2024-01-05  1.0  purple  color\n",
      "4  1 2024-01-05  1.0   black  color\n",
      "--------------------------------------------------\n",
      "   a          b    c       d      e\n",
      "4  1 2024-01-05  1.0   black  color\n",
      "2  1 2024-01-05  1.0    blue  color\n",
      "1  1 2024-01-05  1.0   green  color\n",
      "3  1 2024-01-05  1.0  purple  color\n",
      "0  1 2024-01-05  1.0     red  color\n"
     ]
    }
   ],
   "source": [
    "## sorting\n",
    "print(df_2.sort_index(axis=1, ascending=True))\n",
    "print(\"-\"*50)\n",
    "print(df_2.sort_values(by=\"d\")) # according to val of col d"
   ]
  },
  {
   "cell_type": "code",
   "execution_count": 13,
   "id": "09da642e-eac4-4e4f-a39e-e7fcc636ff37",
   "metadata": {},
   "outputs": [
    {
     "name": "stdout",
     "output_type": "stream",
     "text": [
      "2024-01-05   -1.211673\n",
      "2024-01-06    0.013368\n",
      "2024-01-07   -0.596637\n",
      "2024-01-08    2.399555\n",
      "2024-01-09   -0.382796\n",
      "2024-01-10   -2.625035\n",
      "2024-01-11   -1.103701\n",
      "2024-01-12    0.636748\n",
      "Freq: D, Name: a, dtype: float64\n",
      "--------------------------------------------------\n",
      "                   a         b         c         d\n",
      "2024-01-05 -1.211673  0.941568 -1.561177 -0.547745\n",
      "2024-01-06  0.013368 -0.106951 -2.315565 -0.478239\n"
     ]
    }
   ],
   "source": [
    "## access data\n",
    "print(df[\"a\"]) # col a\n",
    "print(\"-\"*50)\n",
    "print(df[0:2]) # row 0 and 1"
   ]
  },
  {
   "cell_type": "code",
   "execution_count": 19,
   "id": "7a00cac6-d4b4-488a-bdc1-da0b2cd6506c",
   "metadata": {},
   "outputs": [
    {
     "data": {
      "text/html": [
       "<div>\n",
       "<style scoped>\n",
       "    .dataframe tbody tr th:only-of-type {\n",
       "        vertical-align: middle;\n",
       "    }\n",
       "\n",
       "    .dataframe tbody tr th {\n",
       "        vertical-align: top;\n",
       "    }\n",
       "\n",
       "    .dataframe thead th {\n",
       "        text-align: right;\n",
       "    }\n",
       "</style>\n",
       "<table border=\"1\" class=\"dataframe\">\n",
       "  <thead>\n",
       "    <tr style=\"text-align: right;\">\n",
       "      <th></th>\n",
       "      <th>a</th>\n",
       "    </tr>\n",
       "  </thead>\n",
       "  <tbody>\n",
       "    <tr>\n",
       "      <th>0</th>\n",
       "      <td>1</td>\n",
       "    </tr>\n",
       "    <tr>\n",
       "      <th>1</th>\n",
       "      <td>1</td>\n",
       "    </tr>\n",
       "    <tr>\n",
       "      <th>2</th>\n",
       "      <td>1</td>\n",
       "    </tr>\n",
       "    <tr>\n",
       "      <th>3</th>\n",
       "      <td>1</td>\n",
       "    </tr>\n",
       "    <tr>\n",
       "      <th>4</th>\n",
       "      <td>1</td>\n",
       "    </tr>\n",
       "  </tbody>\n",
       "</table>\n",
       "</div>"
      ],
      "text/plain": [
       "   a\n",
       "0  1\n",
       "1  1\n",
       "2  1\n",
       "3  1\n",
       "4  1"
      ]
     },
     "execution_count": 19,
     "metadata": {},
     "output_type": "execute_result"
    }
   ],
   "source": [
    "## select\n",
    "df_2.loc[:, [\"a\"]]"
   ]
  },
  {
   "cell_type": "code",
   "execution_count": 26,
   "id": "51022456-ed58-4fc1-83cf-aef383d99900",
   "metadata": {},
   "outputs": [
    {
     "data": {
      "text/html": [
       "<div>\n",
       "<style scoped>\n",
       "    .dataframe tbody tr th:only-of-type {\n",
       "        vertical-align: middle;\n",
       "    }\n",
       "\n",
       "    .dataframe tbody tr th {\n",
       "        vertical-align: top;\n",
       "    }\n",
       "\n",
       "    .dataframe thead th {\n",
       "        text-align: right;\n",
       "    }\n",
       "</style>\n",
       "<table border=\"1\" class=\"dataframe\">\n",
       "  <thead>\n",
       "    <tr style=\"text-align: right;\">\n",
       "      <th></th>\n",
       "      <th>b</th>\n",
       "      <th>c</th>\n",
       "    </tr>\n",
       "  </thead>\n",
       "  <tbody>\n",
       "    <tr>\n",
       "      <th>2024-01-05</th>\n",
       "      <td>0.941568</td>\n",
       "      <td>-1.561177</td>\n",
       "    </tr>\n",
       "    <tr>\n",
       "      <th>2024-01-06</th>\n",
       "      <td>-0.106951</td>\n",
       "      <td>-2.315565</td>\n",
       "    </tr>\n",
       "    <tr>\n",
       "      <th>2024-01-07</th>\n",
       "      <td>0.267147</td>\n",
       "      <td>2.130864</td>\n",
       "    </tr>\n",
       "    <tr>\n",
       "      <th>2024-01-08</th>\n",
       "      <td>0.779150</td>\n",
       "      <td>-1.533278</td>\n",
       "    </tr>\n",
       "  </tbody>\n",
       "</table>\n",
       "</div>"
      ],
      "text/plain": [
       "                   b         c\n",
       "2024-01-05  0.941568 -1.561177\n",
       "2024-01-06 -0.106951 -2.315565\n",
       "2024-01-07  0.267147  2.130864\n",
       "2024-01-08  0.779150 -1.533278"
      ]
     },
     "execution_count": 26,
     "metadata": {},
     "output_type": "execute_result"
    }
   ],
   "source": [
    "df.loc[\"20240105\":\"20240108\", [\"b\", \"c\"]]"
   ]
  },
  {
   "cell_type": "code",
   "execution_count": 32,
   "id": "a4f081e5-5c1c-4151-919f-82b78486fb5e",
   "metadata": {},
   "outputs": [
    {
     "data": {
      "text/plain": [
       "1"
      ]
     },
     "execution_count": 32,
     "metadata": {},
     "output_type": "execute_result"
    }
   ],
   "source": [
    "df_2.at[0, \"a\"]"
   ]
  },
  {
   "cell_type": "code",
   "execution_count": 34,
   "id": "582531df-6090-4c24-86d6-a419ac73f824",
   "metadata": {},
   "outputs": [
    {
     "data": {
      "text/plain": [
       "a   -0.596637\n",
       "b    0.267147\n",
       "c    2.130864\n",
       "d   -0.515118\n",
       "Name: 2024-01-07 00:00:00, dtype: float64"
      ]
     },
     "execution_count": 34,
     "metadata": {},
     "output_type": "execute_result"
    }
   ],
   "source": [
    "df.iloc[2] #index 2"
   ]
  },
  {
   "cell_type": "code",
   "execution_count": 37,
   "id": "30da00df-6664-492a-a3d9-18b746d9be86",
   "metadata": {},
   "outputs": [
    {
     "data": {
      "text/plain": [
       "1.0"
      ]
     },
     "execution_count": 37,
     "metadata": {},
     "output_type": "execute_result"
    }
   ],
   "source": [
    "df_2.iat[2, 2] # index 2 "
   ]
  },
  {
   "cell_type": "code",
   "execution_count": 38,
   "id": "684dda88-bac8-4a17-92db-d89095bada4f",
   "metadata": {},
   "outputs": [
    {
     "data": {
      "text/plain": [
       "'blue'"
      ]
     },
     "execution_count": 38,
     "metadata": {},
     "output_type": "execute_result"
    }
   ],
   "source": [
    "df_2.iat[2, 3]"
   ]
  },
  {
   "cell_type": "code",
   "execution_count": null,
   "id": "5e5ed795-67f3-4303-bb4c-af3af6d6ec39",
   "metadata": {},
   "outputs": [],
   "source": []
  },
  {
   "cell_type": "code",
   "execution_count": null,
   "id": "34e2e7fd-7c47-4147-8880-c4929105bb6d",
   "metadata": {},
   "outputs": [],
   "source": []
  }
 ],
 "metadata": {
  "kernelspec": {
   "display_name": "Python 3 (ipykernel)",
   "language": "python",
   "name": "python3"
  },
  "language_info": {
   "codemirror_mode": {
    "name": "ipython",
    "version": 3
   },
   "file_extension": ".py",
   "mimetype": "text/x-python",
   "name": "python",
   "nbconvert_exporter": "python",
   "pygments_lexer": "ipython3",
   "version": "3.10.12"
  }
 },
 "nbformat": 4,
 "nbformat_minor": 5
}
